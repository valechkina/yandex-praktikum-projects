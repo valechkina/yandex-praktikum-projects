{
 "cells": [
  {
   "cell_type": "markdown",
   "metadata": {},
   "source": [
    "# Исследование объявлений о продаже квартир\n",
    "\n",
    "В вашем распоряжении данные сервиса Яндекс.Недвижимость — архив объявлений о продаже квартир в Санкт-Петербурге и соседних населённых пунктов за несколько лет. Нужно научиться определять рыночную стоимость объектов недвижимости. Ваша задача — установить параметры. Это позволит построить автоматизированную систему: она отследит аномалии и мошенническую деятельность. \n",
    "\n",
    "По каждой квартире на продажу доступны два вида данных. Первые вписаны пользователем, вторые — получены автоматически на основе картографических данных. Например, расстояние до центра, аэропорта, ближайшего парка и водоёма. "
   ]
  },
  {
   "cell_type": "markdown",
   "metadata": {},
   "source": [
    "## Описание данных\n",
    "- airports_nearest — расстояние до ближайшего аэропорта в метрах (м)\n",
    "- balcony — число балконов\n",
    "- ceiling_height — высота потолков (м)\n",
    "- cityCenters_nearest — расстояние до центра города (м)\n",
    "- days_exposition — сколько дней было размещено объявление (от публикации до снятия)\n",
    "- first_day_exposition — дата публикации\n",
    "- floor — этаж\n",
    "- floors_total — всего этажей в доме\n",
    "- is_apartment — апартаменты (булев тип)\n",
    "- kitchen_area — площадь кухни в квадратных метрах (м²)\n",
    "- last_price — цена на момент снятия с публикации\n",
    "- living_area — жилая площадь в квадратных метрах(м²)\n",
    "- locality_name — название населённого пункта\n",
    "- open_plan — свободная планировка (булев тип)\n",
    "- parks_around3000 — число парков в радиусе 3 км\n",
    "- parks_nearest — расстояние до ближайшего парка (м)\n",
    "- ponds_around3000 — число водоёмов в радиусе 3 км\n",
    "- ponds_nearest — расстояние до ближайшего водоёма (м)\n",
    "- rooms — число комнат\n",
    "- studio — квартира-студия (булев тип)\n",
    "- total_area — площадь квартиры в квадратных метрах (м²)\n",
    "- total_images — число фотографий квартиры в объявлении\n",
    "\n",
    "*Пояснение: апартаменты — это нежилые помещения, не относящиеся к жилому фонду, но имеющие необходимые условия для проживания.*"
   ]
  },
  {
   "cell_type": "markdown",
   "metadata": {},
   "source": [
    "## Изучаем общую информацию о данных"
   ]
  },
  {
   "cell_type": "code",
   "execution_count": 1,
   "metadata": {},
   "outputs": [
    {
     "data": {
      "text/html": [
       "<div>\n",
       "<style scoped>\n",
       "    .dataframe tbody tr th:only-of-type {\n",
       "        vertical-align: middle;\n",
       "    }\n",
       "\n",
       "    .dataframe tbody tr th {\n",
       "        vertical-align: top;\n",
       "    }\n",
       "\n",
       "    .dataframe thead th {\n",
       "        text-align: right;\n",
       "    }\n",
       "</style>\n",
       "<table border=\"1\" class=\"dataframe\">\n",
       "  <thead>\n",
       "    <tr style=\"text-align: right;\">\n",
       "      <th></th>\n",
       "      <th>total_images</th>\n",
       "      <th>last_price</th>\n",
       "      <th>total_area</th>\n",
       "      <th>first_day_exposition</th>\n",
       "      <th>rooms</th>\n",
       "      <th>ceiling_height</th>\n",
       "      <th>floors_total</th>\n",
       "      <th>living_area</th>\n",
       "      <th>floor</th>\n",
       "      <th>is_apartment</th>\n",
       "      <th>...</th>\n",
       "      <th>kitchen_area</th>\n",
       "      <th>balcony</th>\n",
       "      <th>locality_name</th>\n",
       "      <th>airports_nearest</th>\n",
       "      <th>cityCenters_nearest</th>\n",
       "      <th>parks_around3000</th>\n",
       "      <th>parks_nearest</th>\n",
       "      <th>ponds_around3000</th>\n",
       "      <th>ponds_nearest</th>\n",
       "      <th>days_exposition</th>\n",
       "    </tr>\n",
       "  </thead>\n",
       "  <tbody>\n",
       "    <tr>\n",
       "      <td>0</td>\n",
       "      <td>20</td>\n",
       "      <td>13000000.0</td>\n",
       "      <td>108.0</td>\n",
       "      <td>2019-03-07T00:00:00</td>\n",
       "      <td>3</td>\n",
       "      <td>2.7</td>\n",
       "      <td>16.0</td>\n",
       "      <td>51.0</td>\n",
       "      <td>8</td>\n",
       "      <td>NaN</td>\n",
       "      <td>...</td>\n",
       "      <td>25.0</td>\n",
       "      <td>NaN</td>\n",
       "      <td>Санкт-Петербург</td>\n",
       "      <td>18863.0</td>\n",
       "      <td>16028.0</td>\n",
       "      <td>1.0</td>\n",
       "      <td>482.0</td>\n",
       "      <td>2.0</td>\n",
       "      <td>755.0</td>\n",
       "      <td>NaN</td>\n",
       "    </tr>\n",
       "    <tr>\n",
       "      <td>1</td>\n",
       "      <td>7</td>\n",
       "      <td>3350000.0</td>\n",
       "      <td>40.4</td>\n",
       "      <td>2018-12-04T00:00:00</td>\n",
       "      <td>1</td>\n",
       "      <td>NaN</td>\n",
       "      <td>11.0</td>\n",
       "      <td>18.6</td>\n",
       "      <td>1</td>\n",
       "      <td>NaN</td>\n",
       "      <td>...</td>\n",
       "      <td>11.0</td>\n",
       "      <td>2.0</td>\n",
       "      <td>посёлок Шушары</td>\n",
       "      <td>12817.0</td>\n",
       "      <td>18603.0</td>\n",
       "      <td>0.0</td>\n",
       "      <td>NaN</td>\n",
       "      <td>0.0</td>\n",
       "      <td>NaN</td>\n",
       "      <td>81.0</td>\n",
       "    </tr>\n",
       "    <tr>\n",
       "      <td>2</td>\n",
       "      <td>10</td>\n",
       "      <td>5196000.0</td>\n",
       "      <td>56.0</td>\n",
       "      <td>2015-08-20T00:00:00</td>\n",
       "      <td>2</td>\n",
       "      <td>NaN</td>\n",
       "      <td>5.0</td>\n",
       "      <td>34.3</td>\n",
       "      <td>4</td>\n",
       "      <td>NaN</td>\n",
       "      <td>...</td>\n",
       "      <td>8.3</td>\n",
       "      <td>0.0</td>\n",
       "      <td>Санкт-Петербург</td>\n",
       "      <td>21741.0</td>\n",
       "      <td>13933.0</td>\n",
       "      <td>1.0</td>\n",
       "      <td>90.0</td>\n",
       "      <td>2.0</td>\n",
       "      <td>574.0</td>\n",
       "      <td>558.0</td>\n",
       "    </tr>\n",
       "    <tr>\n",
       "      <td>3</td>\n",
       "      <td>0</td>\n",
       "      <td>64900000.0</td>\n",
       "      <td>159.0</td>\n",
       "      <td>2015-07-24T00:00:00</td>\n",
       "      <td>3</td>\n",
       "      <td>NaN</td>\n",
       "      <td>14.0</td>\n",
       "      <td>NaN</td>\n",
       "      <td>9</td>\n",
       "      <td>NaN</td>\n",
       "      <td>...</td>\n",
       "      <td>NaN</td>\n",
       "      <td>0.0</td>\n",
       "      <td>Санкт-Петербург</td>\n",
       "      <td>28098.0</td>\n",
       "      <td>6800.0</td>\n",
       "      <td>2.0</td>\n",
       "      <td>84.0</td>\n",
       "      <td>3.0</td>\n",
       "      <td>234.0</td>\n",
       "      <td>424.0</td>\n",
       "    </tr>\n",
       "    <tr>\n",
       "      <td>4</td>\n",
       "      <td>2</td>\n",
       "      <td>10000000.0</td>\n",
       "      <td>100.0</td>\n",
       "      <td>2018-06-19T00:00:00</td>\n",
       "      <td>2</td>\n",
       "      <td>3.03</td>\n",
       "      <td>14.0</td>\n",
       "      <td>32.0</td>\n",
       "      <td>13</td>\n",
       "      <td>NaN</td>\n",
       "      <td>...</td>\n",
       "      <td>41.0</td>\n",
       "      <td>NaN</td>\n",
       "      <td>Санкт-Петербург</td>\n",
       "      <td>31856.0</td>\n",
       "      <td>8098.0</td>\n",
       "      <td>2.0</td>\n",
       "      <td>112.0</td>\n",
       "      <td>1.0</td>\n",
       "      <td>48.0</td>\n",
       "      <td>121.0</td>\n",
       "    </tr>\n",
       "    <tr>\n",
       "      <td>5</td>\n",
       "      <td>10</td>\n",
       "      <td>2890000.0</td>\n",
       "      <td>30.4</td>\n",
       "      <td>2018-09-10T00:00:00</td>\n",
       "      <td>1</td>\n",
       "      <td>NaN</td>\n",
       "      <td>12.0</td>\n",
       "      <td>14.4</td>\n",
       "      <td>5</td>\n",
       "      <td>NaN</td>\n",
       "      <td>...</td>\n",
       "      <td>9.1</td>\n",
       "      <td>NaN</td>\n",
       "      <td>городской посёлок Янино-1</td>\n",
       "      <td>NaN</td>\n",
       "      <td>NaN</td>\n",
       "      <td>NaN</td>\n",
       "      <td>NaN</td>\n",
       "      <td>NaN</td>\n",
       "      <td>NaN</td>\n",
       "      <td>55.0</td>\n",
       "    </tr>\n",
       "    <tr>\n",
       "      <td>6</td>\n",
       "      <td>6</td>\n",
       "      <td>3700000.0</td>\n",
       "      <td>37.3</td>\n",
       "      <td>2017-11-02T00:00:00</td>\n",
       "      <td>1</td>\n",
       "      <td>NaN</td>\n",
       "      <td>26.0</td>\n",
       "      <td>10.6</td>\n",
       "      <td>6</td>\n",
       "      <td>NaN</td>\n",
       "      <td>...</td>\n",
       "      <td>14.4</td>\n",
       "      <td>1.0</td>\n",
       "      <td>посёлок Парголово</td>\n",
       "      <td>52996.0</td>\n",
       "      <td>19143.0</td>\n",
       "      <td>0.0</td>\n",
       "      <td>NaN</td>\n",
       "      <td>0.0</td>\n",
       "      <td>NaN</td>\n",
       "      <td>155.0</td>\n",
       "    </tr>\n",
       "    <tr>\n",
       "      <td>7</td>\n",
       "      <td>5</td>\n",
       "      <td>7915000.0</td>\n",
       "      <td>71.6</td>\n",
       "      <td>2019-04-18T00:00:00</td>\n",
       "      <td>2</td>\n",
       "      <td>NaN</td>\n",
       "      <td>24.0</td>\n",
       "      <td>NaN</td>\n",
       "      <td>22</td>\n",
       "      <td>NaN</td>\n",
       "      <td>...</td>\n",
       "      <td>18.9</td>\n",
       "      <td>2.0</td>\n",
       "      <td>Санкт-Петербург</td>\n",
       "      <td>23982.0</td>\n",
       "      <td>11634.0</td>\n",
       "      <td>0.0</td>\n",
       "      <td>NaN</td>\n",
       "      <td>0.0</td>\n",
       "      <td>NaN</td>\n",
       "      <td>NaN</td>\n",
       "    </tr>\n",
       "    <tr>\n",
       "      <td>8</td>\n",
       "      <td>20</td>\n",
       "      <td>2900000.0</td>\n",
       "      <td>33.16</td>\n",
       "      <td>2018-05-23T00:00:00</td>\n",
       "      <td>1</td>\n",
       "      <td>NaN</td>\n",
       "      <td>27.0</td>\n",
       "      <td>15.43</td>\n",
       "      <td>26</td>\n",
       "      <td>NaN</td>\n",
       "      <td>...</td>\n",
       "      <td>8.81</td>\n",
       "      <td>NaN</td>\n",
       "      <td>посёлок Мурино</td>\n",
       "      <td>NaN</td>\n",
       "      <td>NaN</td>\n",
       "      <td>NaN</td>\n",
       "      <td>NaN</td>\n",
       "      <td>NaN</td>\n",
       "      <td>NaN</td>\n",
       "      <td>189.00000000000003</td>\n",
       "    </tr>\n",
       "    <tr>\n",
       "      <td>9</td>\n",
       "      <td>18</td>\n",
       "      <td>5400000.0</td>\n",
       "      <td>61.0</td>\n",
       "      <td>2017-02-26T00:00:00</td>\n",
       "      <td>3</td>\n",
       "      <td>2.5</td>\n",
       "      <td>9.0</td>\n",
       "      <td>43.6</td>\n",
       "      <td>7</td>\n",
       "      <td>NaN</td>\n",
       "      <td>...</td>\n",
       "      <td>6.5</td>\n",
       "      <td>2.0</td>\n",
       "      <td>Санкт-Петербург</td>\n",
       "      <td>50898.0</td>\n",
       "      <td>15008.0</td>\n",
       "      <td>0.0</td>\n",
       "      <td>NaN</td>\n",
       "      <td>0.0</td>\n",
       "      <td>NaN</td>\n",
       "      <td>289.0</td>\n",
       "    </tr>\n",
       "  </tbody>\n",
       "</table>\n",
       "<p>10 rows × 22 columns</p>\n",
       "</div>"
      ],
      "text/plain": [
       "   total_images  last_price total_area first_day_exposition  rooms  \\\n",
       "0            20  13000000.0      108.0  2019-03-07T00:00:00      3   \n",
       "1             7   3350000.0       40.4  2018-12-04T00:00:00      1   \n",
       "2            10   5196000.0       56.0  2015-08-20T00:00:00      2   \n",
       "3             0  64900000.0      159.0  2015-07-24T00:00:00      3   \n",
       "4             2  10000000.0      100.0  2018-06-19T00:00:00      2   \n",
       "5            10   2890000.0       30.4  2018-09-10T00:00:00      1   \n",
       "6             6   3700000.0       37.3  2017-11-02T00:00:00      1   \n",
       "7             5   7915000.0       71.6  2019-04-18T00:00:00      2   \n",
       "8            20   2900000.0      33.16  2018-05-23T00:00:00      1   \n",
       "9            18   5400000.0       61.0  2017-02-26T00:00:00      3   \n",
       "\n",
       "  ceiling_height floors_total living_area  floor is_apartment  ...  \\\n",
       "0            2.7         16.0        51.0      8          NaN  ...   \n",
       "1            NaN         11.0        18.6      1          NaN  ...   \n",
       "2            NaN          5.0        34.3      4          NaN  ...   \n",
       "3            NaN         14.0         NaN      9          NaN  ...   \n",
       "4           3.03         14.0        32.0     13          NaN  ...   \n",
       "5            NaN         12.0        14.4      5          NaN  ...   \n",
       "6            NaN         26.0        10.6      6          NaN  ...   \n",
       "7            NaN         24.0         NaN     22          NaN  ...   \n",
       "8            NaN         27.0       15.43     26          NaN  ...   \n",
       "9            2.5          9.0        43.6      7          NaN  ...   \n",
       "\n",
       "   kitchen_area  balcony              locality_name airports_nearest  \\\n",
       "0          25.0      NaN            Санкт-Петербург          18863.0   \n",
       "1          11.0      2.0             посёлок Шушары          12817.0   \n",
       "2           8.3      0.0            Санкт-Петербург          21741.0   \n",
       "3           NaN      0.0            Санкт-Петербург          28098.0   \n",
       "4          41.0      NaN            Санкт-Петербург          31856.0   \n",
       "5           9.1      NaN  городской посёлок Янино-1              NaN   \n",
       "6          14.4      1.0          посёлок Парголово          52996.0   \n",
       "7          18.9      2.0            Санкт-Петербург          23982.0   \n",
       "8          8.81      NaN             посёлок Мурино              NaN   \n",
       "9           6.5      2.0            Санкт-Петербург          50898.0   \n",
       "\n",
       "  cityCenters_nearest parks_around3000 parks_nearest ponds_around3000  \\\n",
       "0             16028.0              1.0         482.0              2.0   \n",
       "1             18603.0              0.0           NaN              0.0   \n",
       "2             13933.0              1.0          90.0              2.0   \n",
       "3              6800.0              2.0          84.0              3.0   \n",
       "4              8098.0              2.0         112.0              1.0   \n",
       "5                 NaN              NaN           NaN              NaN   \n",
       "6             19143.0              0.0           NaN              0.0   \n",
       "7             11634.0              0.0           NaN              0.0   \n",
       "8                 NaN              NaN           NaN              NaN   \n",
       "9             15008.0              0.0           NaN              0.0   \n",
       "\n",
       "  ponds_nearest     days_exposition  \n",
       "0         755.0                 NaN  \n",
       "1           NaN                81.0  \n",
       "2         574.0               558.0  \n",
       "3         234.0               424.0  \n",
       "4          48.0               121.0  \n",
       "5           NaN                55.0  \n",
       "6           NaN               155.0  \n",
       "7           NaN                 NaN  \n",
       "8           NaN  189.00000000000003  \n",
       "9           NaN               289.0  \n",
       "\n",
       "[10 rows x 22 columns]"
      ]
     },
     "execution_count": 1,
     "metadata": {},
     "output_type": "execute_result"
    }
   ],
   "source": [
    "import pandas as pd\n",
    "df = pd.read_csv('real_estate_data.csv', sep='\\t', decimal=',')\n",
    "df.head(10)"
   ]
  },
  {
   "cell_type": "code",
   "execution_count": 2,
   "metadata": {},
   "outputs": [
    {
     "data": {
      "text/html": [
       "<div>\n",
       "<style scoped>\n",
       "    .dataframe tbody tr th:only-of-type {\n",
       "        vertical-align: middle;\n",
       "    }\n",
       "\n",
       "    .dataframe tbody tr th {\n",
       "        vertical-align: top;\n",
       "    }\n",
       "\n",
       "    .dataframe thead th {\n",
       "        text-align: right;\n",
       "    }\n",
       "</style>\n",
       "<table border=\"1\" class=\"dataframe\">\n",
       "  <thead>\n",
       "    <tr style=\"text-align: right;\">\n",
       "      <th></th>\n",
       "      <th>total_images</th>\n",
       "      <th>last_price</th>\n",
       "      <th>total_area</th>\n",
       "      <th>first_day_exposition</th>\n",
       "      <th>rooms</th>\n",
       "      <th>ceiling_height</th>\n",
       "      <th>floors_total</th>\n",
       "      <th>living_area</th>\n",
       "      <th>floor</th>\n",
       "      <th>is_apartment</th>\n",
       "      <th>...</th>\n",
       "      <th>kitchen_area</th>\n",
       "      <th>balcony</th>\n",
       "      <th>locality_name</th>\n",
       "      <th>airports_nearest</th>\n",
       "      <th>cityCenters_nearest</th>\n",
       "      <th>parks_around3000</th>\n",
       "      <th>parks_nearest</th>\n",
       "      <th>ponds_around3000</th>\n",
       "      <th>ponds_nearest</th>\n",
       "      <th>days_exposition</th>\n",
       "    </tr>\n",
       "  </thead>\n",
       "  <tbody>\n",
       "    <tr>\n",
       "      <td>23694</td>\n",
       "      <td>9</td>\n",
       "      <td>9700000.0</td>\n",
       "      <td>133.81</td>\n",
       "      <td>2017-03-21T00:00:00</td>\n",
       "      <td>3</td>\n",
       "      <td>3.7</td>\n",
       "      <td>5.0</td>\n",
       "      <td>73.3</td>\n",
       "      <td>3</td>\n",
       "      <td>NaN</td>\n",
       "      <td>...</td>\n",
       "      <td>13.83</td>\n",
       "      <td>NaN</td>\n",
       "      <td>Санкт-Петербург</td>\n",
       "      <td>24665.0</td>\n",
       "      <td>4232.0</td>\n",
       "      <td>1.0</td>\n",
       "      <td>796.0</td>\n",
       "      <td>3.0</td>\n",
       "      <td>381.0</td>\n",
       "      <td>NaN</td>\n",
       "    </tr>\n",
       "    <tr>\n",
       "      <td>23695</td>\n",
       "      <td>14</td>\n",
       "      <td>3100000.0</td>\n",
       "      <td>59.0</td>\n",
       "      <td>2018-01-15T00:00:00</td>\n",
       "      <td>3</td>\n",
       "      <td>NaN</td>\n",
       "      <td>5.0</td>\n",
       "      <td>38.0</td>\n",
       "      <td>4</td>\n",
       "      <td>NaN</td>\n",
       "      <td>...</td>\n",
       "      <td>8.5</td>\n",
       "      <td>NaN</td>\n",
       "      <td>Тосно</td>\n",
       "      <td>NaN</td>\n",
       "      <td>NaN</td>\n",
       "      <td>NaN</td>\n",
       "      <td>NaN</td>\n",
       "      <td>NaN</td>\n",
       "      <td>NaN</td>\n",
       "      <td>45.00000000000001</td>\n",
       "    </tr>\n",
       "    <tr>\n",
       "      <td>23696</td>\n",
       "      <td>18</td>\n",
       "      <td>2500000.0</td>\n",
       "      <td>56.7</td>\n",
       "      <td>2018-02-11T00:00:00</td>\n",
       "      <td>2</td>\n",
       "      <td>NaN</td>\n",
       "      <td>3.0</td>\n",
       "      <td>29.7</td>\n",
       "      <td>1</td>\n",
       "      <td>NaN</td>\n",
       "      <td>...</td>\n",
       "      <td>NaN</td>\n",
       "      <td>NaN</td>\n",
       "      <td>село Рождествено</td>\n",
       "      <td>NaN</td>\n",
       "      <td>NaN</td>\n",
       "      <td>NaN</td>\n",
       "      <td>NaN</td>\n",
       "      <td>NaN</td>\n",
       "      <td>NaN</td>\n",
       "      <td>NaN</td>\n",
       "    </tr>\n",
       "    <tr>\n",
       "      <td>23697</td>\n",
       "      <td>13</td>\n",
       "      <td>11475000.0</td>\n",
       "      <td>76.75</td>\n",
       "      <td>2017-03-28T00:00:00</td>\n",
       "      <td>2</td>\n",
       "      <td>3.0</td>\n",
       "      <td>17.0</td>\n",
       "      <td>NaN</td>\n",
       "      <td>12</td>\n",
       "      <td>NaN</td>\n",
       "      <td>...</td>\n",
       "      <td>23.3</td>\n",
       "      <td>2.0</td>\n",
       "      <td>Санкт-Петербург</td>\n",
       "      <td>39140.0</td>\n",
       "      <td>10364.0</td>\n",
       "      <td>2.0</td>\n",
       "      <td>173.0</td>\n",
       "      <td>3.0</td>\n",
       "      <td>196.0</td>\n",
       "      <td>602.0</td>\n",
       "    </tr>\n",
       "    <tr>\n",
       "      <td>23698</td>\n",
       "      <td>4</td>\n",
       "      <td>1350000.0</td>\n",
       "      <td>32.3</td>\n",
       "      <td>2017-07-21T00:00:00</td>\n",
       "      <td>1</td>\n",
       "      <td>2.5</td>\n",
       "      <td>5.0</td>\n",
       "      <td>12.3</td>\n",
       "      <td>1</td>\n",
       "      <td>NaN</td>\n",
       "      <td>...</td>\n",
       "      <td>9.0</td>\n",
       "      <td>NaN</td>\n",
       "      <td>поселок Новый Учхоз</td>\n",
       "      <td>NaN</td>\n",
       "      <td>NaN</td>\n",
       "      <td>NaN</td>\n",
       "      <td>NaN</td>\n",
       "      <td>NaN</td>\n",
       "      <td>NaN</td>\n",
       "      <td>NaN</td>\n",
       "    </tr>\n",
       "  </tbody>\n",
       "</table>\n",
       "<p>5 rows × 22 columns</p>\n",
       "</div>"
      ],
      "text/plain": [
       "       total_images  last_price total_area first_day_exposition  rooms  \\\n",
       "23694             9   9700000.0     133.81  2017-03-21T00:00:00      3   \n",
       "23695            14   3100000.0       59.0  2018-01-15T00:00:00      3   \n",
       "23696            18   2500000.0       56.7  2018-02-11T00:00:00      2   \n",
       "23697            13  11475000.0      76.75  2017-03-28T00:00:00      2   \n",
       "23698             4   1350000.0       32.3  2017-07-21T00:00:00      1   \n",
       "\n",
       "      ceiling_height floors_total living_area  floor is_apartment  ...  \\\n",
       "23694            3.7          5.0        73.3      3          NaN  ...   \n",
       "23695            NaN          5.0        38.0      4          NaN  ...   \n",
       "23696            NaN          3.0        29.7      1          NaN  ...   \n",
       "23697            3.0         17.0         NaN     12          NaN  ...   \n",
       "23698            2.5          5.0        12.3      1          NaN  ...   \n",
       "\n",
       "       kitchen_area  balcony        locality_name airports_nearest  \\\n",
       "23694         13.83      NaN      Санкт-Петербург          24665.0   \n",
       "23695           8.5      NaN                Тосно              NaN   \n",
       "23696           NaN      NaN     село Рождествено              NaN   \n",
       "23697          23.3      2.0      Санкт-Петербург          39140.0   \n",
       "23698           9.0      NaN  поселок Новый Учхоз              NaN   \n",
       "\n",
       "      cityCenters_nearest parks_around3000 parks_nearest ponds_around3000  \\\n",
       "23694              4232.0              1.0         796.0              3.0   \n",
       "23695                 NaN              NaN           NaN              NaN   \n",
       "23696                 NaN              NaN           NaN              NaN   \n",
       "23697             10364.0              2.0         173.0              3.0   \n",
       "23698                 NaN              NaN           NaN              NaN   \n",
       "\n",
       "      ponds_nearest    days_exposition  \n",
       "23694         381.0                NaN  \n",
       "23695           NaN  45.00000000000001  \n",
       "23696           NaN                NaN  \n",
       "23697         196.0              602.0  \n",
       "23698           NaN                NaN  \n",
       "\n",
       "[5 rows x 22 columns]"
      ]
     },
     "execution_count": 2,
     "metadata": {},
     "output_type": "execute_result"
    }
   ],
   "source": [
    "df.tail()"
   ]
  },
  {
   "cell_type": "code",
   "execution_count": 3,
   "metadata": {},
   "outputs": [
    {
     "name": "stdout",
     "output_type": "stream",
     "text": [
      "<class 'pandas.core.frame.DataFrame'>\n",
      "RangeIndex: 23699 entries, 0 to 23698\n",
      "Data columns (total 22 columns):\n",
      "total_images            23699 non-null int64\n",
      "last_price              23699 non-null object\n",
      "total_area              23699 non-null object\n",
      "first_day_exposition    23699 non-null object\n",
      "rooms                   23699 non-null int64\n",
      "ceiling_height          14504 non-null object\n",
      "floors_total            23613 non-null object\n",
      "living_area             21796 non-null object\n",
      "floor                   23699 non-null int64\n",
      "is_apartment            2775 non-null object\n",
      "studio                  23699 non-null bool\n",
      "open_plan               23699 non-null bool\n",
      "kitchen_area            21421 non-null object\n",
      "balcony                 12180 non-null object\n",
      "locality_name           23650 non-null object\n",
      "airports_nearest        18157 non-null object\n",
      "cityCenters_nearest     18180 non-null object\n",
      "parks_around3000        18181 non-null object\n",
      "parks_nearest           8079 non-null object\n",
      "ponds_around3000        18181 non-null object\n",
      "ponds_nearest           9110 non-null object\n",
      "days_exposition         20518 non-null object\n",
      "dtypes: bool(2), int64(3), object(17)\n",
      "memory usage: 3.7+ MB\n"
     ]
    }
   ],
   "source": [
    "df.info()"
   ]
  },
  {
   "cell_type": "markdown",
   "metadata": {},
   "source": [
    "**Вывод**\n",
    "\n",
    "Итак, у нас имеется датасет из > 23к наблюдений и 21 атрибут. \n",
    "Бегло просмотрев сводную информацию по датафрейму, можно сделать следующие наблюдения:\n",
    "1. Много пропусков в `ceiling_height`, `balcony`, `parks_nearest`, `ponds_nearest`, нужно будет их заполнить.\n",
    "2. Тип данных во многих столбцах вещественный, хотя должен был бы быть числовой, например `last_price`, `total_area` никак нельзя оставлять строками, нужно будет перевести такие столбцы в тип float.\n",
    "3. Также есть пара атрибутов, где тип данных булев: `studio`, `open_plan` . Из описания данных мы также знаем, что в столбце `is_apartment` должен быть булев тип, но в info вышло почему-то object, надо перепроверить."
   ]
  },
  {
   "cell_type": "markdown",
   "metadata": {},
   "source": [
    "## Предобработка данных"
   ]
  },
  {
   "cell_type": "markdown",
   "metadata": {},
   "source": [
    "### Обработка пропущенных значений\n",
    "Для начала посмотрим, в каких столбцах есть пропуски и сколько их, а дальше решим, как лучше всего их заполнить, чтобы случайно не исказить данные."
   ]
  },
  {
   "cell_type": "code",
   "execution_count": 4,
   "metadata": {},
   "outputs": [
    {
     "data": {
      "text/plain": [
       "total_images                0\n",
       "last_price                  0\n",
       "total_area                  0\n",
       "first_day_exposition        0\n",
       "rooms                       0\n",
       "ceiling_height           9195\n",
       "floors_total               86\n",
       "living_area              1903\n",
       "floor                       0\n",
       "is_apartment            20924\n",
       "studio                      0\n",
       "open_plan                   0\n",
       "kitchen_area             2278\n",
       "balcony                 11519\n",
       "locality_name              49\n",
       "airports_nearest         5542\n",
       "cityCenters_nearest      5519\n",
       "parks_around3000         5518\n",
       "parks_nearest           15620\n",
       "ponds_around3000         5518\n",
       "ponds_nearest           14589\n",
       "days_exposition          3181\n",
       "dtype: int64"
      ]
     },
     "execution_count": 4,
     "metadata": {},
     "output_type": "execute_result"
    }
   ],
   "source": [
    "df.isna().sum()"
   ]
  },
  {
   "cell_type": "markdown",
   "metadata": {},
   "source": [
    "Больше всего пропусков в столбце `is_apartment`, посмотрим, что там за значения."
   ]
  },
  {
   "cell_type": "code",
   "execution_count": 5,
   "metadata": {},
   "outputs": [
    {
     "data": {
      "text/plain": [
       "False    2725\n",
       "True       50\n",
       "Name: is_apartment, dtype: int64"
      ]
     },
     "execution_count": 5,
     "metadata": {},
     "output_type": "execute_result"
    }
   ],
   "source": [
    "df['is_apartment'].value_counts()"
   ]
  },
  {
   "cell_type": "markdown",
   "metadata": {},
   "source": [
    "Логичнее всего предположить, что большинство квартир на продажу должны иметь значение `is_apartment = False`, т.к. это нежилой фонд. Заменим все пропуски на False."
   ]
  },
  {
   "cell_type": "code",
   "execution_count": 6,
   "metadata": {},
   "outputs": [
    {
     "data": {
      "text/plain": [
       "False    23649\n",
       "True        50\n",
       "Name: is_apartment, dtype: int64"
      ]
     },
     "execution_count": 6,
     "metadata": {},
     "output_type": "execute_result"
    }
   ],
   "source": [
    "df.loc[df['is_apartment'].isnull(), 'is_apartment'] = False\n",
    "\n",
    "#Проверка\n",
    "df['is_apartment'].value_counts()"
   ]
  },
  {
   "cell_type": "markdown",
   "metadata": {},
   "source": [
    "В столбце `ceiling_height` больше 9 тысяч пропусков, но здесь вряд ли стоит заполнять, потому что у нас нет никаких догадок, какие именно значения могли быть пропущены, а заменять на среднее никакого смысла нет, ведь высота потолков в домах в основном стандартная.\n",
    "\n",
    "Далее посмотрим на пропуски в `parks_nearest` и `ponds_nearest` (расстояние до ближайшего парка и водоема). Также имеет смысл посмотреть на значения в связке с `parks_around3000` и  `ponds_around3000` (количество парков и водоемов в радиусе 3 км). Вероятно, если значения там пропущены, то ни парков, ни водоемов поблизости нет."
   ]
  },
  {
   "cell_type": "code",
   "execution_count": 7,
   "metadata": {},
   "outputs": [
    {
     "data": {
      "text/plain": [
       "0.0    10102\n",
       "Name: parks_around3000, dtype: int64"
      ]
     },
     "execution_count": 7,
     "metadata": {},
     "output_type": "execute_result"
    }
   ],
   "source": [
    "df[df['parks_nearest'].isnull()]['parks_around3000'].value_counts()"
   ]
  },
  {
   "cell_type": "code",
   "execution_count": 8,
   "metadata": {},
   "outputs": [
    {
     "data": {
      "text/plain": [
       "0.0    9071\n",
       "Name: ponds_around3000, dtype: int64"
      ]
     },
     "execution_count": 8,
     "metadata": {},
     "output_type": "execute_result"
    }
   ],
   "source": [
    "df[df['ponds_nearest'].isnull()]['ponds_around3000'].value_counts()"
   ]
  },
  {
   "cell_type": "markdown",
   "metadata": {},
   "source": [
    "Там где пропуски в столбцах `ponds_around3000` и `parks_around3000`, скорее всего, парков и водоемов поблизости нет - заменим на 0.\n",
    "\n",
    "Во всех остальных случаях, где пропуски в `parks_nearest` и `ponds_nearest`, но `ponds_around3000` и `parks_around3000` больше 0, заменим на медианное значение.\n",
    "\n",
    "Там где никаких парков и водоемов поблизости нет, не будем заменять пропуски в `parks_nearest` и `ponds_nearest` на 0. Сделаем техническую замену на 9999, чтобы было понятно, что это не настоящее значение, но и пропуск будет заполнен."
   ]
  },
  {
   "cell_type": "code",
   "execution_count": 9,
   "metadata": {},
   "outputs": [],
   "source": [
    "#заполняем нулями пропущенные там, где нет парка и водоема поблизости\n",
    "df['parks_around3000'] = df['parks_around3000'].fillna(0)\n",
    "df['ponds_around3000'] = df['ponds_around3000'].fillna(0)\n",
    "\n",
    "#считаем медианы по столбцам parks_nearest и ponds_nearest\n",
    "parks_median = df['parks_nearest'].median()\n",
    "ponds_median = df['ponds_nearest'].median()\n",
    "\n",
    "#там где кол-во парков и водоемов 0, заполняем 9999\n",
    "df.loc[df['parks_around3000'] == 0, 'parks_nearest'] = 9999\n",
    "df.loc[df['ponds_around3000'] == 0, 'ponds_nearest'] = 9999\n",
    "\n",
    "#где водоем или парк есть, но не указано расстояние, заполним медианой\n",
    "df['parks_nearest'] = df['parks_nearest'].fillna(value=parks_median)\n",
    "df['ponds_nearest'] = df['ponds_nearest'].fillna(value=ponds_median)"
   ]
  },
  {
   "cell_type": "markdown",
   "metadata": {},
   "source": [
    "В столбцах `locality_name` и `floors_total` совсем немного пропущенных значений (меньше 0.5% от всех наблюдений), и в то же время это важные столбцы для расчетов, поэтому лучше всего строки с этими пропусками удалить."
   ]
  },
  {
   "cell_type": "code",
   "execution_count": 10,
   "metadata": {},
   "outputs": [],
   "source": [
    "df.dropna(subset = ['locality_name'], inplace = True)\n",
    "df.dropna(subset = ['floors_total'], inplace = True)"
   ]
  },
  {
   "cell_type": "markdown",
   "metadata": {},
   "source": [
    "Смотрим, что еще осталось."
   ]
  },
  {
   "cell_type": "code",
   "execution_count": 11,
   "metadata": {},
   "outputs": [
    {
     "data": {
      "text/plain": [
       "total_images                0\n",
       "last_price                  0\n",
       "total_area                  0\n",
       "first_day_exposition        0\n",
       "rooms                       0\n",
       "ceiling_height           9084\n",
       "floors_total                0\n",
       "living_area              1865\n",
       "floor                       0\n",
       "is_apartment                0\n",
       "studio                      0\n",
       "open_plan                   0\n",
       "kitchen_area             2222\n",
       "balcony                 11475\n",
       "locality_name               0\n",
       "airports_nearest         5524\n",
       "cityCenters_nearest      5501\n",
       "parks_around3000            0\n",
       "parks_nearest               0\n",
       "ponds_around3000            0\n",
       "ponds_nearest               0\n",
       "days_exposition          3171\n",
       "dtype: int64"
      ]
     },
     "execution_count": 11,
     "metadata": {},
     "output_type": "execute_result"
    }
   ],
   "source": [
    "df.isnull().sum()"
   ]
  },
  {
   "cell_type": "markdown",
   "metadata": {},
   "source": [
    "Пропуски в `airports_nearest` и `cityCenters_nearest` заполним медианными значениями, предварительно сгруппировав по району. Чтобы подстраховаться, предварительно приведем значения к числовому типу, иначе не получится посчитать медианы."
   ]
  },
  {
   "cell_type": "code",
   "execution_count": 12,
   "metadata": {},
   "outputs": [],
   "source": [
    "df['airports_nearest'] = df['airports_nearest'].apply(pd.to_numeric)\n",
    "df['cityCenters_nearest'] = df['cityCenters_nearest'].apply(pd.to_numeric)\n",
    "\n",
    "df['airports_nearest'] = df['airports_nearest'].fillna(df.groupby('locality_name')['airports_nearest'].transform('median'))\n",
    "df['cityCenters_nearest'] = df['cityCenters_nearest'].fillna(df.groupby('locality_name')['cityCenters_nearest'].transform('median'))"
   ]
  },
  {
   "cell_type": "markdown",
   "metadata": {},
   "source": [
    "Пропуски в `balcony` заполним нулями. Предположим, что, если количество балконов не указано, то их нет."
   ]
  },
  {
   "cell_type": "code",
   "execution_count": 13,
   "metadata": {},
   "outputs": [
    {
     "data": {
      "text/plain": [
       "0"
      ]
     },
     "execution_count": 13,
     "metadata": {},
     "output_type": "execute_result"
    }
   ],
   "source": [
    "df.loc[df['balcony'].isnull(), 'balcony'] = 0\n",
    "#Проверка\n",
    "df['balcony'].isnull().sum()"
   ]
  },
  {
   "cell_type": "markdown",
   "metadata": {},
   "source": [
    "Пропуски в `kitchen_area` заполним просто медианными значениями, а в `living_area` медианой в зависимости от количества комнат. Опять же, предварительно все 3 столбца приведем к числовому типу."
   ]
  },
  {
   "cell_type": "code",
   "execution_count": 14,
   "metadata": {},
   "outputs": [],
   "source": [
    "df['kitchen_area'] = df['kitchen_area'].apply(pd.to_numeric)\n",
    "df['living_area'] = df['living_area'].apply(pd.to_numeric)\n",
    "df['rooms'] = df['rooms'].apply(pd.to_numeric).astype('int') #кол-во комнат должно быть целым числом\n",
    "\n",
    "df['kitchen_area'] = df['kitchen_area'].fillna(df['kitchen_area'].median())\n",
    "df['living_area'] = df['living_area'].fillna(df.groupby('rooms')['living_area'].transform('median'))"
   ]
  },
  {
   "cell_type": "markdown",
   "metadata": {},
   "source": [
    "С `days_exposition` не все однозначно, лучше всего оставить пропуски как есть, чтобы не искажать данные.\n",
    "\n",
    "\n",
    "**Вывод**\n",
    "\n",
    "Итак, мы заполнили пропуски в числовых данных медианами там, где это было возможно. Там, где скорее всего атрибут отсутствует (например, балкон или парк), заполнили просто нулями. В столбцах, где нельзя было предположить, какие значения пропущены, не заполняем."
   ]
  },
  {
   "cell_type": "markdown",
   "metadata": {},
   "source": [
    "### Приведение данных к нужным типам"
   ]
  },
  {
   "cell_type": "markdown",
   "metadata": {},
   "source": [
    "Еще раз взглянем на типы данных по столбцам."
   ]
  },
  {
   "cell_type": "code",
   "execution_count": 15,
   "metadata": {},
   "outputs": [
    {
     "data": {
      "text/plain": [
       "total_images              int64\n",
       "last_price               object\n",
       "total_area               object\n",
       "first_day_exposition     object\n",
       "rooms                     int64\n",
       "ceiling_height           object\n",
       "floors_total             object\n",
       "living_area             float64\n",
       "floor                     int64\n",
       "is_apartment               bool\n",
       "studio                     bool\n",
       "open_plan                  bool\n",
       "kitchen_area            float64\n",
       "balcony                  object\n",
       "locality_name            object\n",
       "airports_nearest        float64\n",
       "cityCenters_nearest     float64\n",
       "parks_around3000         object\n",
       "parks_nearest            object\n",
       "ponds_around3000         object\n",
       "ponds_nearest            object\n",
       "days_exposition          object\n",
       "dtype: object"
      ]
     },
     "execution_count": 15,
     "metadata": {},
     "output_type": "execute_result"
    }
   ],
   "source": [
    "df.dtypes"
   ]
  },
  {
   "cell_type": "markdown",
   "metadata": {},
   "source": [
    "Данные по следующим столбцам нужно привести к числовому типу (float): \n",
    "- `last_price`, \n",
    "- `total_area`, \n",
    "- `ceiling_height`, \n",
    "- `parks_nearest`, \n",
    "- `ponds_nearest`, \n",
    "- `days_exposition`.\n",
    "\n",
    "Чтобы вовремя заметить возможные ошибки и знать, если в каком-либо столбце не получилось конвертировать данные, применим конструкцию `try-except`."
   ]
  },
  {
   "cell_type": "code",
   "execution_count": 16,
   "metadata": {},
   "outputs": [],
   "source": [
    "for col in df[['last_price', 'total_area', 'ceiling_height', 'parks_nearest', 'ponds_nearest', 'days_exposition']]:\n",
    "    try:\n",
    "        df[col] = df[col].apply(pd.to_numeric)\n",
    "    except:\n",
    "        print('could not convert type in', col)"
   ]
  },
  {
   "cell_type": "markdown",
   "metadata": {},
   "source": [
    "Супер, никаких ошибок не произошло! Идем дальше. \n",
    "\n",
    "А в этих столбцах логичнее всего привести все значения к целым числам: \n",
    "- `floors_total`, \n",
    "- `balcony`, \n",
    "- `parks_around3000`, \n",
    "- `ponds_around3000`."
   ]
  },
  {
   "cell_type": "code",
   "execution_count": 17,
   "metadata": {},
   "outputs": [],
   "source": [
    "for col in df[['floors_total', 'balcony', 'parks_around3000', 'ponds_around3000']]:\n",
    "    try:\n",
    "        df[col] = df[col].apply(pd.to_numeric).astype('int')\n",
    "    except:\n",
    "        print('error in column', col)"
   ]
  },
  {
   "cell_type": "markdown",
   "metadata": {},
   "source": [
    "В столбце `first_day_exposition` нам нужны даты, а не строки."
   ]
  },
  {
   "cell_type": "code",
   "execution_count": 18,
   "metadata": {},
   "outputs": [],
   "source": [
    "df['first_day_exposition'] = pd.to_datetime(df['first_day_exposition'], format='%Y-%m-%dT%H:%M:%S')"
   ]
  },
  {
   "cell_type": "markdown",
   "metadata": {},
   "source": [
    "Также необходимо удалить дубликаты, если они есть."
   ]
  },
  {
   "cell_type": "code",
   "execution_count": 19,
   "metadata": {},
   "outputs": [
    {
     "data": {
      "text/plain": [
       "0"
      ]
     },
     "execution_count": 19,
     "metadata": {},
     "output_type": "execute_result"
    }
   ],
   "source": [
    "df.duplicated().sum()"
   ]
  },
  {
   "cell_type": "markdown",
   "metadata": {},
   "source": [
    "Дубликатов в датасете нет, даже удивительно:) \n",
    "\n",
    "Еще раз смотрим на получившийся после всей предобработки датафрейм."
   ]
  },
  {
   "cell_type": "code",
   "execution_count": 20,
   "metadata": {},
   "outputs": [
    {
     "name": "stdout",
     "output_type": "stream",
     "text": [
      "<class 'pandas.core.frame.DataFrame'>\n",
      "Int64Index: 23565 entries, 0 to 23698\n",
      "Data columns (total 22 columns):\n",
      "total_images            23565 non-null int64\n",
      "last_price              23565 non-null float64\n",
      "total_area              23565 non-null float64\n",
      "first_day_exposition    23565 non-null datetime64[ns]\n",
      "rooms                   23565 non-null int64\n",
      "ceiling_height          14481 non-null float64\n",
      "floors_total            23565 non-null int64\n",
      "living_area             23565 non-null float64\n",
      "floor                   23565 non-null int64\n",
      "is_apartment            23565 non-null bool\n",
      "studio                  23565 non-null bool\n",
      "open_plan               23565 non-null bool\n",
      "kitchen_area            23565 non-null float64\n",
      "balcony                 23565 non-null int64\n",
      "locality_name           23565 non-null object\n",
      "airports_nearest        18133 non-null float64\n",
      "cityCenters_nearest     18133 non-null float64\n",
      "parks_around3000        23565 non-null int64\n",
      "parks_nearest           23565 non-null float64\n",
      "ponds_around3000        23565 non-null int64\n",
      "ponds_nearest           23565 non-null float64\n",
      "days_exposition         20394 non-null float64\n",
      "dtypes: bool(3), datetime64[ns](1), float64(10), int64(7), object(1)\n",
      "memory usage: 3.7+ MB\n"
     ]
    }
   ],
   "source": [
    "df.info()"
   ]
  },
  {
   "cell_type": "markdown",
   "metadata": {},
   "source": [
    "**Вывод**\n",
    "\n",
    "Итак, мы заполнили пропуски там, где логично было предположить, что значения равны 0, или где было допустимо заполнить числовые значения медианами, не рискуя сильно исказить данные. Конечно, необходимо разобраться в причинах пропусков. Возможно, случились технические ошибки при выгрузке в каких-то из атрибутов, ну а скорее всего многие значения изначально не были указаны пользователями, разместившими объявления, и это нормально. Там где адекватной замены пропуска нет, оставляем все как есть, например в `days_exposition`.\n",
    "\n",
    "Также мы изменили типы данных с вещественного на числовой в тех столбцах, где это было необходимо, и в одном столбце привели данные к типу datetime.\n",
    "\n",
    "Пока закончим на этом предобработку и займемся обогащением данных."
   ]
  },
  {
   "cell_type": "markdown",
   "metadata": {},
   "source": [
    "## Обогащение данных"
   ]
  },
  {
   "cell_type": "markdown",
   "metadata": {},
   "source": [
    "1. Добавим в таблицу столбец `price_sq_meter` с **ценой за квадратный метр**. Для этого разделим цену `last_price` на площадь `total_area`."
   ]
  },
  {
   "cell_type": "code",
   "execution_count": 21,
   "metadata": {},
   "outputs": [],
   "source": [
    "df['price_sq_meter'] = df['last_price'] / df['total_area']"
   ]
  },
  {
   "cell_type": "markdown",
   "metadata": {},
   "source": [
    "2. Добавляем **день недели** `weekday`, **месяц** `month` и **год** публикации объявления `year`."
   ]
  },
  {
   "cell_type": "code",
   "execution_count": 22,
   "metadata": {},
   "outputs": [
    {
     "data": {
      "text/html": [
       "<div>\n",
       "<style scoped>\n",
       "    .dataframe tbody tr th:only-of-type {\n",
       "        vertical-align: middle;\n",
       "    }\n",
       "\n",
       "    .dataframe tbody tr th {\n",
       "        vertical-align: top;\n",
       "    }\n",
       "\n",
       "    .dataframe thead th {\n",
       "        text-align: right;\n",
       "    }\n",
       "</style>\n",
       "<table border=\"1\" class=\"dataframe\">\n",
       "  <thead>\n",
       "    <tr style=\"text-align: right;\">\n",
       "      <th></th>\n",
       "      <th>total_images</th>\n",
       "      <th>last_price</th>\n",
       "      <th>total_area</th>\n",
       "      <th>first_day_exposition</th>\n",
       "      <th>rooms</th>\n",
       "      <th>ceiling_height</th>\n",
       "      <th>floors_total</th>\n",
       "      <th>living_area</th>\n",
       "      <th>floor</th>\n",
       "      <th>is_apartment</th>\n",
       "      <th>...</th>\n",
       "      <th>cityCenters_nearest</th>\n",
       "      <th>parks_around3000</th>\n",
       "      <th>parks_nearest</th>\n",
       "      <th>ponds_around3000</th>\n",
       "      <th>ponds_nearest</th>\n",
       "      <th>days_exposition</th>\n",
       "      <th>price_sq_meter</th>\n",
       "      <th>weekday</th>\n",
       "      <th>month</th>\n",
       "      <th>year</th>\n",
       "    </tr>\n",
       "  </thead>\n",
       "  <tbody>\n",
       "    <tr>\n",
       "      <td>0</td>\n",
       "      <td>20</td>\n",
       "      <td>13000000.0</td>\n",
       "      <td>108.0</td>\n",
       "      <td>2019-03-07</td>\n",
       "      <td>3</td>\n",
       "      <td>2.70</td>\n",
       "      <td>16</td>\n",
       "      <td>51.0</td>\n",
       "      <td>8</td>\n",
       "      <td>False</td>\n",
       "      <td>...</td>\n",
       "      <td>16028.0</td>\n",
       "      <td>1</td>\n",
       "      <td>482.0</td>\n",
       "      <td>2</td>\n",
       "      <td>755.0</td>\n",
       "      <td>NaN</td>\n",
       "      <td>120370.370370</td>\n",
       "      <td>3</td>\n",
       "      <td>3</td>\n",
       "      <td>2019</td>\n",
       "    </tr>\n",
       "    <tr>\n",
       "      <td>1</td>\n",
       "      <td>7</td>\n",
       "      <td>3350000.0</td>\n",
       "      <td>40.4</td>\n",
       "      <td>2018-12-04</td>\n",
       "      <td>1</td>\n",
       "      <td>NaN</td>\n",
       "      <td>11</td>\n",
       "      <td>18.6</td>\n",
       "      <td>1</td>\n",
       "      <td>False</td>\n",
       "      <td>...</td>\n",
       "      <td>18603.0</td>\n",
       "      <td>0</td>\n",
       "      <td>455.0</td>\n",
       "      <td>0</td>\n",
       "      <td>502.0</td>\n",
       "      <td>81.0</td>\n",
       "      <td>82920.792079</td>\n",
       "      <td>1</td>\n",
       "      <td>12</td>\n",
       "      <td>2018</td>\n",
       "    </tr>\n",
       "    <tr>\n",
       "      <td>2</td>\n",
       "      <td>10</td>\n",
       "      <td>5196000.0</td>\n",
       "      <td>56.0</td>\n",
       "      <td>2015-08-20</td>\n",
       "      <td>2</td>\n",
       "      <td>NaN</td>\n",
       "      <td>5</td>\n",
       "      <td>34.3</td>\n",
       "      <td>4</td>\n",
       "      <td>False</td>\n",
       "      <td>...</td>\n",
       "      <td>13933.0</td>\n",
       "      <td>1</td>\n",
       "      <td>90.0</td>\n",
       "      <td>2</td>\n",
       "      <td>574.0</td>\n",
       "      <td>558.0</td>\n",
       "      <td>92785.714286</td>\n",
       "      <td>3</td>\n",
       "      <td>8</td>\n",
       "      <td>2015</td>\n",
       "    </tr>\n",
       "    <tr>\n",
       "      <td>3</td>\n",
       "      <td>0</td>\n",
       "      <td>64900000.0</td>\n",
       "      <td>159.0</td>\n",
       "      <td>2015-07-24</td>\n",
       "      <td>3</td>\n",
       "      <td>NaN</td>\n",
       "      <td>14</td>\n",
       "      <td>45.0</td>\n",
       "      <td>9</td>\n",
       "      <td>False</td>\n",
       "      <td>...</td>\n",
       "      <td>6800.0</td>\n",
       "      <td>2</td>\n",
       "      <td>84.0</td>\n",
       "      <td>3</td>\n",
       "      <td>234.0</td>\n",
       "      <td>424.0</td>\n",
       "      <td>408176.100629</td>\n",
       "      <td>4</td>\n",
       "      <td>7</td>\n",
       "      <td>2015</td>\n",
       "    </tr>\n",
       "    <tr>\n",
       "      <td>4</td>\n",
       "      <td>2</td>\n",
       "      <td>10000000.0</td>\n",
       "      <td>100.0</td>\n",
       "      <td>2018-06-19</td>\n",
       "      <td>2</td>\n",
       "      <td>3.03</td>\n",
       "      <td>14</td>\n",
       "      <td>32.0</td>\n",
       "      <td>13</td>\n",
       "      <td>False</td>\n",
       "      <td>...</td>\n",
       "      <td>8098.0</td>\n",
       "      <td>2</td>\n",
       "      <td>112.0</td>\n",
       "      <td>1</td>\n",
       "      <td>48.0</td>\n",
       "      <td>121.0</td>\n",
       "      <td>100000.000000</td>\n",
       "      <td>1</td>\n",
       "      <td>6</td>\n",
       "      <td>2018</td>\n",
       "    </tr>\n",
       "  </tbody>\n",
       "</table>\n",
       "<p>5 rows × 26 columns</p>\n",
       "</div>"
      ],
      "text/plain": [
       "   total_images  last_price  total_area first_day_exposition  rooms  \\\n",
       "0            20  13000000.0       108.0           2019-03-07      3   \n",
       "1             7   3350000.0        40.4           2018-12-04      1   \n",
       "2            10   5196000.0        56.0           2015-08-20      2   \n",
       "3             0  64900000.0       159.0           2015-07-24      3   \n",
       "4             2  10000000.0       100.0           2018-06-19      2   \n",
       "\n",
       "   ceiling_height  floors_total  living_area  floor  is_apartment  ...  \\\n",
       "0            2.70            16         51.0      8         False  ...   \n",
       "1             NaN            11         18.6      1         False  ...   \n",
       "2             NaN             5         34.3      4         False  ...   \n",
       "3             NaN            14         45.0      9         False  ...   \n",
       "4            3.03            14         32.0     13         False  ...   \n",
       "\n",
       "   cityCenters_nearest  parks_around3000  parks_nearest  ponds_around3000  \\\n",
       "0              16028.0                 1          482.0                 2   \n",
       "1              18603.0                 0          455.0                 0   \n",
       "2              13933.0                 1           90.0                 2   \n",
       "3               6800.0                 2           84.0                 3   \n",
       "4               8098.0                 2          112.0                 1   \n",
       "\n",
       "  ponds_nearest  days_exposition  price_sq_meter  weekday  month  year  \n",
       "0         755.0              NaN   120370.370370        3      3  2019  \n",
       "1         502.0             81.0    82920.792079        1     12  2018  \n",
       "2         574.0            558.0    92785.714286        3      8  2015  \n",
       "3         234.0            424.0   408176.100629        4      7  2015  \n",
       "4          48.0            121.0   100000.000000        1      6  2018  \n",
       "\n",
       "[5 rows x 26 columns]"
      ]
     },
     "execution_count": 22,
     "metadata": {},
     "output_type": "execute_result"
    }
   ],
   "source": [
    "df['weekday'] = df['first_day_exposition'].dt.weekday\n",
    "\n",
    "df['month'] = df['first_day_exposition'].dt.month\n",
    "\n",
    "df['year'] = df['first_day_exposition'].dt.year\n",
    "\n",
    "df.head()"
   ]
  },
  {
   "cell_type": "markdown",
   "metadata": {},
   "source": [
    "3. Добавим `floor_first_last` (**этаж квартиры**); варианты — первый, последний, другой."
   ]
  },
  {
   "cell_type": "code",
   "execution_count": 23,
   "metadata": {},
   "outputs": [
    {
     "data": {
      "text/html": [
       "<div>\n",
       "<style scoped>\n",
       "    .dataframe tbody tr th:only-of-type {\n",
       "        vertical-align: middle;\n",
       "    }\n",
       "\n",
       "    .dataframe tbody tr th {\n",
       "        vertical-align: top;\n",
       "    }\n",
       "\n",
       "    .dataframe thead th {\n",
       "        text-align: right;\n",
       "    }\n",
       "</style>\n",
       "<table border=\"1\" class=\"dataframe\">\n",
       "  <thead>\n",
       "    <tr style=\"text-align: right;\">\n",
       "      <th></th>\n",
       "      <th>total_images</th>\n",
       "      <th>last_price</th>\n",
       "      <th>total_area</th>\n",
       "      <th>first_day_exposition</th>\n",
       "      <th>rooms</th>\n",
       "      <th>ceiling_height</th>\n",
       "      <th>floors_total</th>\n",
       "      <th>living_area</th>\n",
       "      <th>floor</th>\n",
       "      <th>is_apartment</th>\n",
       "      <th>...</th>\n",
       "      <th>parks_around3000</th>\n",
       "      <th>parks_nearest</th>\n",
       "      <th>ponds_around3000</th>\n",
       "      <th>ponds_nearest</th>\n",
       "      <th>days_exposition</th>\n",
       "      <th>price_sq_meter</th>\n",
       "      <th>weekday</th>\n",
       "      <th>month</th>\n",
       "      <th>year</th>\n",
       "      <th>floor_first_last</th>\n",
       "    </tr>\n",
       "  </thead>\n",
       "  <tbody>\n",
       "    <tr>\n",
       "      <td>9902</td>\n",
       "      <td>11</td>\n",
       "      <td>4690000.0</td>\n",
       "      <td>60.0</td>\n",
       "      <td>2017-10-21</td>\n",
       "      <td>3</td>\n",
       "      <td>2.55</td>\n",
       "      <td>10</td>\n",
       "      <td>37.4</td>\n",
       "      <td>6</td>\n",
       "      <td>False</td>\n",
       "      <td>...</td>\n",
       "      <td>0</td>\n",
       "      <td>455.0</td>\n",
       "      <td>0</td>\n",
       "      <td>502.0</td>\n",
       "      <td>155.0</td>\n",
       "      <td>78166.666667</td>\n",
       "      <td>5</td>\n",
       "      <td>10</td>\n",
       "      <td>2017</td>\n",
       "      <td>другой</td>\n",
       "    </tr>\n",
       "    <tr>\n",
       "      <td>6111</td>\n",
       "      <td>13</td>\n",
       "      <td>4000000.0</td>\n",
       "      <td>56.6</td>\n",
       "      <td>2017-04-14</td>\n",
       "      <td>1</td>\n",
       "      <td>3.70</td>\n",
       "      <td>5</td>\n",
       "      <td>28.8</td>\n",
       "      <td>4</td>\n",
       "      <td>False</td>\n",
       "      <td>...</td>\n",
       "      <td>0</td>\n",
       "      <td>9999.0</td>\n",
       "      <td>0</td>\n",
       "      <td>9999.0</td>\n",
       "      <td>470.0</td>\n",
       "      <td>70671.378092</td>\n",
       "      <td>4</td>\n",
       "      <td>4</td>\n",
       "      <td>2017</td>\n",
       "      <td>другой</td>\n",
       "    </tr>\n",
       "    <tr>\n",
       "      <td>13012</td>\n",
       "      <td>7</td>\n",
       "      <td>5200000.0</td>\n",
       "      <td>59.0</td>\n",
       "      <td>2017-10-12</td>\n",
       "      <td>3</td>\n",
       "      <td>NaN</td>\n",
       "      <td>9</td>\n",
       "      <td>40.0</td>\n",
       "      <td>4</td>\n",
       "      <td>False</td>\n",
       "      <td>...</td>\n",
       "      <td>0</td>\n",
       "      <td>455.0</td>\n",
       "      <td>0</td>\n",
       "      <td>502.0</td>\n",
       "      <td>93.0</td>\n",
       "      <td>88135.593220</td>\n",
       "      <td>3</td>\n",
       "      <td>10</td>\n",
       "      <td>2017</td>\n",
       "      <td>другой</td>\n",
       "    </tr>\n",
       "    <tr>\n",
       "      <td>13146</td>\n",
       "      <td>2</td>\n",
       "      <td>1950000.0</td>\n",
       "      <td>59.0</td>\n",
       "      <td>2015-10-05</td>\n",
       "      <td>2</td>\n",
       "      <td>3.00</td>\n",
       "      <td>2</td>\n",
       "      <td>35.0</td>\n",
       "      <td>2</td>\n",
       "      <td>False</td>\n",
       "      <td>...</td>\n",
       "      <td>0</td>\n",
       "      <td>9999.0</td>\n",
       "      <td>0</td>\n",
       "      <td>9999.0</td>\n",
       "      <td>258.0</td>\n",
       "      <td>33050.847458</td>\n",
       "      <td>0</td>\n",
       "      <td>10</td>\n",
       "      <td>2015</td>\n",
       "      <td>последний</td>\n",
       "    </tr>\n",
       "    <tr>\n",
       "      <td>5421</td>\n",
       "      <td>2</td>\n",
       "      <td>4900000.0</td>\n",
       "      <td>47.3</td>\n",
       "      <td>2016-04-27</td>\n",
       "      <td>1</td>\n",
       "      <td>NaN</td>\n",
       "      <td>18</td>\n",
       "      <td>14.0</td>\n",
       "      <td>10</td>\n",
       "      <td>False</td>\n",
       "      <td>...</td>\n",
       "      <td>0</td>\n",
       "      <td>455.0</td>\n",
       "      <td>2</td>\n",
       "      <td>100.0</td>\n",
       "      <td>147.0</td>\n",
       "      <td>103594.080338</td>\n",
       "      <td>2</td>\n",
       "      <td>4</td>\n",
       "      <td>2016</td>\n",
       "      <td>другой</td>\n",
       "    </tr>\n",
       "    <tr>\n",
       "      <td>14346</td>\n",
       "      <td>10</td>\n",
       "      <td>2900000.0</td>\n",
       "      <td>33.2</td>\n",
       "      <td>2017-10-31</td>\n",
       "      <td>1</td>\n",
       "      <td>NaN</td>\n",
       "      <td>9</td>\n",
       "      <td>18.0</td>\n",
       "      <td>1</td>\n",
       "      <td>False</td>\n",
       "      <td>...</td>\n",
       "      <td>0</td>\n",
       "      <td>455.0</td>\n",
       "      <td>1</td>\n",
       "      <td>692.0</td>\n",
       "      <td>9.0</td>\n",
       "      <td>87349.397590</td>\n",
       "      <td>1</td>\n",
       "      <td>10</td>\n",
       "      <td>2017</td>\n",
       "      <td>первый</td>\n",
       "    </tr>\n",
       "    <tr>\n",
       "      <td>12579</td>\n",
       "      <td>9</td>\n",
       "      <td>17500000.0</td>\n",
       "      <td>104.0</td>\n",
       "      <td>2015-03-13</td>\n",
       "      <td>2</td>\n",
       "      <td>NaN</td>\n",
       "      <td>16</td>\n",
       "      <td>40.3</td>\n",
       "      <td>11</td>\n",
       "      <td>False</td>\n",
       "      <td>...</td>\n",
       "      <td>1</td>\n",
       "      <td>342.0</td>\n",
       "      <td>0</td>\n",
       "      <td>502.0</td>\n",
       "      <td>868.0</td>\n",
       "      <td>168269.230769</td>\n",
       "      <td>4</td>\n",
       "      <td>3</td>\n",
       "      <td>2015</td>\n",
       "      <td>другой</td>\n",
       "    </tr>\n",
       "    <tr>\n",
       "      <td>4607</td>\n",
       "      <td>14</td>\n",
       "      <td>5251000.0</td>\n",
       "      <td>51.1</td>\n",
       "      <td>2019-03-14</td>\n",
       "      <td>1</td>\n",
       "      <td>2.67</td>\n",
       "      <td>3</td>\n",
       "      <td>20.0</td>\n",
       "      <td>2</td>\n",
       "      <td>False</td>\n",
       "      <td>...</td>\n",
       "      <td>0</td>\n",
       "      <td>455.0</td>\n",
       "      <td>1</td>\n",
       "      <td>287.0</td>\n",
       "      <td>NaN</td>\n",
       "      <td>102759.295499</td>\n",
       "      <td>3</td>\n",
       "      <td>3</td>\n",
       "      <td>2019</td>\n",
       "      <td>другой</td>\n",
       "    </tr>\n",
       "    <tr>\n",
       "      <td>22525</td>\n",
       "      <td>11</td>\n",
       "      <td>3550000.0</td>\n",
       "      <td>39.5</td>\n",
       "      <td>2018-08-02</td>\n",
       "      <td>1</td>\n",
       "      <td>2.60</td>\n",
       "      <td>12</td>\n",
       "      <td>18.5</td>\n",
       "      <td>9</td>\n",
       "      <td>False</td>\n",
       "      <td>...</td>\n",
       "      <td>0</td>\n",
       "      <td>455.0</td>\n",
       "      <td>1</td>\n",
       "      <td>320.0</td>\n",
       "      <td>9.0</td>\n",
       "      <td>89873.417722</td>\n",
       "      <td>3</td>\n",
       "      <td>8</td>\n",
       "      <td>2018</td>\n",
       "      <td>другой</td>\n",
       "    </tr>\n",
       "    <tr>\n",
       "      <td>11886</td>\n",
       "      <td>20</td>\n",
       "      <td>6350000.0</td>\n",
       "      <td>60.0</td>\n",
       "      <td>2018-11-28</td>\n",
       "      <td>2</td>\n",
       "      <td>3.30</td>\n",
       "      <td>4</td>\n",
       "      <td>35.0</td>\n",
       "      <td>1</td>\n",
       "      <td>False</td>\n",
       "      <td>...</td>\n",
       "      <td>0</td>\n",
       "      <td>455.0</td>\n",
       "      <td>0</td>\n",
       "      <td>502.0</td>\n",
       "      <td>NaN</td>\n",
       "      <td>105833.333333</td>\n",
       "      <td>2</td>\n",
       "      <td>11</td>\n",
       "      <td>2018</td>\n",
       "      <td>первый</td>\n",
       "    </tr>\n",
       "  </tbody>\n",
       "</table>\n",
       "<p>10 rows × 27 columns</p>\n",
       "</div>"
      ],
      "text/plain": [
       "       total_images  last_price  total_area first_day_exposition  rooms  \\\n",
       "9902             11   4690000.0        60.0           2017-10-21      3   \n",
       "6111             13   4000000.0        56.6           2017-04-14      1   \n",
       "13012             7   5200000.0        59.0           2017-10-12      3   \n",
       "13146             2   1950000.0        59.0           2015-10-05      2   \n",
       "5421              2   4900000.0        47.3           2016-04-27      1   \n",
       "14346            10   2900000.0        33.2           2017-10-31      1   \n",
       "12579             9  17500000.0       104.0           2015-03-13      2   \n",
       "4607             14   5251000.0        51.1           2019-03-14      1   \n",
       "22525            11   3550000.0        39.5           2018-08-02      1   \n",
       "11886            20   6350000.0        60.0           2018-11-28      2   \n",
       "\n",
       "       ceiling_height  floors_total  living_area  floor  is_apartment  ...  \\\n",
       "9902             2.55            10         37.4      6         False  ...   \n",
       "6111             3.70             5         28.8      4         False  ...   \n",
       "13012             NaN             9         40.0      4         False  ...   \n",
       "13146            3.00             2         35.0      2         False  ...   \n",
       "5421              NaN            18         14.0     10         False  ...   \n",
       "14346             NaN             9         18.0      1         False  ...   \n",
       "12579             NaN            16         40.3     11         False  ...   \n",
       "4607             2.67             3         20.0      2         False  ...   \n",
       "22525            2.60            12         18.5      9         False  ...   \n",
       "11886            3.30             4         35.0      1         False  ...   \n",
       "\n",
       "       parks_around3000  parks_nearest  ponds_around3000  ponds_nearest  \\\n",
       "9902                  0          455.0                 0          502.0   \n",
       "6111                  0         9999.0                 0         9999.0   \n",
       "13012                 0          455.0                 0          502.0   \n",
       "13146                 0         9999.0                 0         9999.0   \n",
       "5421                  0          455.0                 2          100.0   \n",
       "14346                 0          455.0                 1          692.0   \n",
       "12579                 1          342.0                 0          502.0   \n",
       "4607                  0          455.0                 1          287.0   \n",
       "22525                 0          455.0                 1          320.0   \n",
       "11886                 0          455.0                 0          502.0   \n",
       "\n",
       "      days_exposition  price_sq_meter  weekday  month  year  floor_first_last  \n",
       "9902            155.0    78166.666667        5     10  2017            другой  \n",
       "6111            470.0    70671.378092        4      4  2017            другой  \n",
       "13012            93.0    88135.593220        3     10  2017            другой  \n",
       "13146           258.0    33050.847458        0     10  2015         последний  \n",
       "5421            147.0   103594.080338        2      4  2016            другой  \n",
       "14346             9.0    87349.397590        1     10  2017            первый  \n",
       "12579           868.0   168269.230769        4      3  2015            другой  \n",
       "4607              NaN   102759.295499        3      3  2019            другой  \n",
       "22525             9.0    89873.417722        3      8  2018            другой  \n",
       "11886             NaN   105833.333333        2     11  2018            первый  \n",
       "\n",
       "[10 rows x 27 columns]"
      ]
     },
     "execution_count": 23,
     "metadata": {},
     "output_type": "execute_result"
    }
   ],
   "source": [
    "#если этаж равен количеству этажей в здании, присвоим ему значение 'последний'\n",
    "df.loc[df['floor'] == df['floors_total'], 'floor_first_last'] = 'последний'\n",
    "#если этаж первый, присвоим ему значение 'первый'\n",
    "df.loc[df['floor'] == 1, 'floor_first_last'] = 'первый'\n",
    "#все остальные значения заполним как 'другой'\n",
    "df['floor_first_last'] = df['floor_first_last'].fillna('другой')\n",
    "\n",
    "df.sample(10)"
   ]
  },
  {
   "cell_type": "markdown",
   "metadata": {},
   "source": [
    "4. **Соотношение жилой и общей площади**, `living_area_part`, рассчитаем, разделив `living_area` на `total_area`. "
   ]
  },
  {
   "cell_type": "code",
   "execution_count": 24,
   "metadata": {},
   "outputs": [],
   "source": [
    "df['living_area_part'] = df['living_area'] / df['total_area']"
   ]
  },
  {
   "cell_type": "markdown",
   "metadata": {},
   "source": [
    "5. **Отношение площади кухни к общей**, `kitchen_area_part`, рассчитаем как отношение `kitchen_area` к `total_area`."
   ]
  },
  {
   "cell_type": "code",
   "execution_count": 25,
   "metadata": {},
   "outputs": [],
   "source": [
    "df['kitchen_area_part'] = df['kitchen_area'] / df['total_area']"
   ]
  },
  {
   "cell_type": "markdown",
   "metadata": {},
   "source": [
    "**Вывод**\n",
    "\n",
    "Итак, мы добавили в таблицу 7 новых столбцов, которые помогут нам сгруппировать данные и проанализировать их на следующем этапе исследования."
   ]
  },
  {
   "cell_type": "markdown",
   "metadata": {},
   "source": [
    "## Исследовательский анализ данных"
   ]
  },
  {
   "cell_type": "markdown",
   "metadata": {},
   "source": [
    " ### Площадь, цена, число комнат, высота потолков\n",
    " \n",
    " Изучим следующие параметры: площадь, цена, число комнат, высота потолков. Построим гистограммы для каждого параметра.\n",
    " "
   ]
  },
  {
   "cell_type": "markdown",
   "metadata": {},
   "source": [
    "#### Площадь\n",
    "\n",
    "У нас есть несколько атрибутов с площадью: `total_area`, `living_area`, `kitchen_area`, а также 2 атрибута, показывающих соотношение площадей: `living_area_part` и `kitchen_area_part`. Рассмотрим основные статистические показатели по этим 5 столбцам."
   ]
  },
  {
   "cell_type": "code",
   "execution_count": 26,
   "metadata": {
    "scrolled": true
   },
   "outputs": [
    {
     "data": {
      "text/html": [
       "<div>\n",
       "<style scoped>\n",
       "    .dataframe tbody tr th:only-of-type {\n",
       "        vertical-align: middle;\n",
       "    }\n",
       "\n",
       "    .dataframe tbody tr th {\n",
       "        vertical-align: top;\n",
       "    }\n",
       "\n",
       "    .dataframe thead th {\n",
       "        text-align: right;\n",
       "    }\n",
       "</style>\n",
       "<table border=\"1\" class=\"dataframe\">\n",
       "  <thead>\n",
       "    <tr style=\"text-align: right;\">\n",
       "      <th></th>\n",
       "      <th>total_area</th>\n",
       "      <th>living_area</th>\n",
       "      <th>kitchen_area</th>\n",
       "      <th>living_area_part</th>\n",
       "      <th>kitchen_area_part</th>\n",
       "    </tr>\n",
       "  </thead>\n",
       "  <tbody>\n",
       "    <tr>\n",
       "      <td>count</td>\n",
       "      <td>23565.000000</td>\n",
       "      <td>23565.000000</td>\n",
       "      <td>23565.000000</td>\n",
       "      <td>23565.000000</td>\n",
       "      <td>23565.000000</td>\n",
       "    </tr>\n",
       "    <tr>\n",
       "      <td>mean</td>\n",
       "      <td>60.322824</td>\n",
       "      <td>34.324899</td>\n",
       "      <td>10.423234</td>\n",
       "      <td>0.564031</td>\n",
       "      <td>0.189397</td>\n",
       "    </tr>\n",
       "    <tr>\n",
       "      <td>std</td>\n",
       "      <td>35.657060</td>\n",
       "      <td>21.722006</td>\n",
       "      <td>5.631746</td>\n",
       "      <td>0.110860</td>\n",
       "      <td>0.075767</td>\n",
       "    </tr>\n",
       "    <tr>\n",
       "      <td>min</td>\n",
       "      <td>12.000000</td>\n",
       "      <td>2.000000</td>\n",
       "      <td>1.300000</td>\n",
       "      <td>0.021583</td>\n",
       "      <td>0.018200</td>\n",
       "    </tr>\n",
       "    <tr>\n",
       "      <td>25%</td>\n",
       "      <td>40.000000</td>\n",
       "      <td>18.400000</td>\n",
       "      <td>7.300000</td>\n",
       "      <td>0.490716</td>\n",
       "      <td>0.133654</td>\n",
       "    </tr>\n",
       "    <tr>\n",
       "      <td>50%</td>\n",
       "      <td>52.000000</td>\n",
       "      <td>30.300000</td>\n",
       "      <td>9.100000</td>\n",
       "      <td>0.566667</td>\n",
       "      <td>0.173913</td>\n",
       "    </tr>\n",
       "    <tr>\n",
       "      <td>75%</td>\n",
       "      <td>69.700000</td>\n",
       "      <td>42.700000</td>\n",
       "      <td>11.410000</td>\n",
       "      <td>0.638298</td>\n",
       "      <td>0.234513</td>\n",
       "    </tr>\n",
       "    <tr>\n",
       "      <td>max</td>\n",
       "      <td>900.000000</td>\n",
       "      <td>409.700000</td>\n",
       "      <td>112.000000</td>\n",
       "      <td>1.515476</td>\n",
       "      <td>0.787879</td>\n",
       "    </tr>\n",
       "  </tbody>\n",
       "</table>\n",
       "</div>"
      ],
      "text/plain": [
       "         total_area   living_area  kitchen_area  living_area_part  \\\n",
       "count  23565.000000  23565.000000  23565.000000      23565.000000   \n",
       "mean      60.322824     34.324899     10.423234          0.564031   \n",
       "std       35.657060     21.722006      5.631746          0.110860   \n",
       "min       12.000000      2.000000      1.300000          0.021583   \n",
       "25%       40.000000     18.400000      7.300000          0.490716   \n",
       "50%       52.000000     30.300000      9.100000          0.566667   \n",
       "75%       69.700000     42.700000     11.410000          0.638298   \n",
       "max      900.000000    409.700000    112.000000          1.515476   \n",
       "\n",
       "       kitchen_area_part  \n",
       "count       23565.000000  \n",
       "mean            0.189397  \n",
       "std             0.075767  \n",
       "min             0.018200  \n",
       "25%             0.133654  \n",
       "50%             0.173913  \n",
       "75%             0.234513  \n",
       "max             0.787879  "
      ]
     },
     "execution_count": 26,
     "metadata": {},
     "output_type": "execute_result"
    }
   ],
   "source": [
    "area = df[['total_area', 'living_area', 'kitchen_area', 'living_area_part', 'kitchen_area_part']]\n",
    "area.describe()"
   ]
  },
  {
   "cell_type": "markdown",
   "metadata": {},
   "source": [
    "Средние и медианы выглядят более-менее правдоподобно, чего не скажешь о min и max. Что это за квартиры с жилой площадью 2 кв.м.? Или с площадью кухни 78% от общей площади? Это похоже даже не на выбросы, а на заведомо ошибочные значения. Нарисуем гистограммы для наглядности."
   ]
  },
  {
   "cell_type": "code",
   "execution_count": 27,
   "metadata": {},
   "outputs": [
    {
     "data": {
      "text/plain": [
       "array([[<matplotlib.axes._subplots.AxesSubplot object at 0x10829fa90>]],\n",
       "      dtype=object)"
      ]
     },
     "execution_count": 27,
     "metadata": {},
     "output_type": "execute_result"
    },
    {
     "data": {
      "image/png": "[encoded data removed]",
      "text/plain": [
       "<Figure size 1080x360 with 1 Axes>"
      ]
     },
     "metadata": {
      "needs_background": "light"
     },
     "output_type": "display_data"
    }
   ],
   "source": [
    "area.hist(column='total_area', bins=100, figsize=(15,5))"
   ]
  },
  {
   "cell_type": "markdown",
   "metadata": {},
   "source": [
    "На гистограмме общей площади видим, что подавляющее большинство квартир имеет площадь до 100 кв.м., от 100 до 200 это уже \"хвост\" и квартир с площадью больше ~250 кв.м. буквально единицы, т.е. это выбросы.\n",
    "Построим гистограмму с диапазоном значений от 0 до 300."
   ]
  },
  {
   "cell_type": "code",
   "execution_count": 28,
   "metadata": {},
   "outputs": [
    {
     "data": {
      "text/plain": [
       "array([[<matplotlib.axes._subplots.AxesSubplot object at 0x117141f50>]],\n",
       "      dtype=object)"
      ]
     },
     "execution_count": 28,
     "metadata": {},
     "output_type": "execute_result"
    },
    {
     "data": {
      "image/png": "[encoded data removed]",
      "text/plain": [
       "<Figure size 1080x360 with 1 Axes>"
      ]
     },
     "metadata": {
      "needs_background": "light"
     },
     "output_type": "display_data"
    }
   ],
   "source": [
    "area.hist(column='total_area', bins=100, range=(0, 300), figsize=(15,5))"
   ]
  },
  {
   "cell_type": "markdown",
   "metadata": {},
   "source": [
    "Здесь уже можно разглядеть поподробнее, что наибольшее количество наблюдений имеет общую площадь около 45 кв.м. Какие-то совсем маленькие площади 10-20 кв.м. - это, скорее всего, комнаты, а не квартиры.\n",
    "\n",
    "Построим такие графики и для других атрибутов площади."
   ]
  },
  {
   "cell_type": "code",
   "execution_count": 29,
   "metadata": {},
   "outputs": [
    {
     "data": {
      "text/plain": [
       "array([[<matplotlib.axes._subplots.AxesSubplot object at 0x117325c90>,\n",
       "        <matplotlib.axes._subplots.AxesSubplot object at 0x11734fd90>],\n",
       "       [<matplotlib.axes._subplots.AxesSubplot object at 0x11751ef10>,\n",
       "        <matplotlib.axes._subplots.AxesSubplot object at 0x117560750>],\n",
       "       [<matplotlib.axes._subplots.AxesSubplot object at 0x117592f50>,\n",
       "        <matplotlib.axes._subplots.AxesSubplot object at 0x1175d6790>]],\n",
       "      dtype=object)"
      ]
     },
     "execution_count": 29,
     "metadata": {},
     "output_type": "execute_result"
    },
    {
     "data": {
      "image/png": "[encoded data removed]",
      "text/plain": [
       "<Figure size 1080x1440 with 6 Axes>"
      ]
     },
     "metadata": {
      "needs_background": "light"
     },
     "output_type": "display_data"
    }
   ],
   "source": [
    "area.hist(bins=100, grid=True, figsize=(15,20))"
   ]
  },
  {
   "cell_type": "markdown",
   "metadata": {},
   "source": [
    "Можно заметить аномальные значения на гистограммах kitchen_area_part: некоторые значения доходят до 80% от общей площади квартиры, что, скорее всего неправда. Также на гистограмме living_area_part есть выбивающиеся значения, как слишком низкие - меньше 20%, так и слишком высокие - больше 100%, что тоже невозможно. \n",
    "В остальном гистограммы выглядят правдоподобно: похожи на нормальное распределение, со смещением влево, потому что большинство квартир на рынке, конечно, небольшой площади, 30-100 кв.м., но есть и длинный \"хвост\" больших квартир, площадью до 250 кв.м. и более."
   ]
  },
  {
   "cell_type": "markdown",
   "metadata": {},
   "source": [
    "#### Цена"
   ]
  },
  {
   "cell_type": "code",
   "execution_count": 30,
   "metadata": {},
   "outputs": [
    {
     "data": {
      "text/plain": [
       "array([[<matplotlib.axes._subplots.AxesSubplot object at 0x1174bd8d0>]],\n",
       "      dtype=object)"
      ]
     },
     "execution_count": 30,
     "metadata": {},
     "output_type": "execute_result"
    },
    {
     "data": {
      "image/png": "[encoded data removed]",
      "text/plain": [
       "<Figure size 1080x360 with 1 Axes>"
      ]
     },
     "metadata": {
      "needs_background": "light"
     },
     "output_type": "display_data"
    }
   ],
   "source": [
    "df.hist(column='last_price', bins=150, grid=True, figsize=(15,5))"
   ]
  },
  {
   "cell_type": "code",
   "execution_count": 31,
   "metadata": {},
   "outputs": [
    {
     "data": {
      "text/plain": [
       "count    2.356500e+04\n",
       "mean     6.540058e+06\n",
       "std      1.091093e+07\n",
       "min      1.219000e+04\n",
       "25%      3.400000e+06\n",
       "50%      4.646000e+06\n",
       "75%      6.790000e+06\n",
       "max      7.630000e+08\n",
       "Name: last_price, dtype: float64"
      ]
     },
     "execution_count": 31,
     "metadata": {},
     "output_type": "execute_result"
    }
   ],
   "source": [
    "df['last_price'].describe()"
   ]
  },
  {
   "cell_type": "markdown",
   "metadata": {},
   "source": [
    "Здесь из-за формата чисел получается не очень понятная гистограмма, кажется, будто в датасете очень много значений близких к 0, но проверив основные статистические показатели столбца, мы видим, что это не так. Попробуем перевести все цены в миллионы рублей."
   ]
  },
  {
   "cell_type": "code",
   "execution_count": 32,
   "metadata": {},
   "outputs": [
    {
     "data": {
      "text/plain": [
       "array([[<matplotlib.axes._subplots.AxesSubplot object at 0x118891f10>]],\n",
       "      dtype=object)"
      ]
     },
     "execution_count": 32,
     "metadata": {},
     "output_type": "execute_result"
    },
    {
     "data": {
      "image/png": "[encoded data removed]",
      "text/plain": [
       "<Figure size 1080x360 with 1 Axes>"
      ]
     },
     "metadata": {
      "needs_background": "light"
     },
     "output_type": "display_data"
    }
   ],
   "source": [
    "df['price_mln'] = df['last_price'] / 1000000\n",
    "df.hist(column='price_mln', bins=150, grid=True, figsize=(15,5), range=(0,80))"
   ]
  },
  {
   "cell_type": "markdown",
   "metadata": {},
   "source": [
    "Здесь снова видим нормальное распределение со сдвигом влево, все в порядке. Большинство наблюдений находятся в диапазоне до 10 млн. Единичные выбросы значений выше 30 млн. руб. Удивительно, что за квартиры с ценой чуть выше 0, проверим."
   ]
  },
  {
   "cell_type": "code",
   "execution_count": 33,
   "metadata": {},
   "outputs": [
    {
     "data": {
      "text/html": [
       "<div>\n",
       "<style scoped>\n",
       "    .dataframe tbody tr th:only-of-type {\n",
       "        vertical-align: middle;\n",
       "    }\n",
       "\n",
       "    .dataframe tbody tr th {\n",
       "        vertical-align: top;\n",
       "    }\n",
       "\n",
       "    .dataframe thead th {\n",
       "        text-align: right;\n",
       "    }\n",
       "</style>\n",
       "<table border=\"1\" class=\"dataframe\">\n",
       "  <thead>\n",
       "    <tr style=\"text-align: right;\">\n",
       "      <th></th>\n",
       "      <th>total_images</th>\n",
       "      <th>last_price</th>\n",
       "      <th>total_area</th>\n",
       "      <th>first_day_exposition</th>\n",
       "      <th>rooms</th>\n",
       "      <th>ceiling_height</th>\n",
       "      <th>floors_total</th>\n",
       "      <th>living_area</th>\n",
       "      <th>floor</th>\n",
       "      <th>is_apartment</th>\n",
       "      <th>...</th>\n",
       "      <th>ponds_nearest</th>\n",
       "      <th>days_exposition</th>\n",
       "      <th>price_sq_meter</th>\n",
       "      <th>weekday</th>\n",
       "      <th>month</th>\n",
       "      <th>year</th>\n",
       "      <th>floor_first_last</th>\n",
       "      <th>living_area_part</th>\n",
       "      <th>kitchen_area_part</th>\n",
       "      <th>price_mln</th>\n",
       "    </tr>\n",
       "  </thead>\n",
       "  <tbody>\n",
       "    <tr>\n",
       "      <td>18976</td>\n",
       "      <td>2</td>\n",
       "      <td>720000.0</td>\n",
       "      <td>48.0</td>\n",
       "      <td>2016-03-19</td>\n",
       "      <td>2</td>\n",
       "      <td>NaN</td>\n",
       "      <td>3</td>\n",
       "      <td>30.0</td>\n",
       "      <td>3</td>\n",
       "      <td>False</td>\n",
       "      <td>...</td>\n",
       "      <td>9999.0</td>\n",
       "      <td>288.0</td>\n",
       "      <td>15000.000000</td>\n",
       "      <td>5</td>\n",
       "      <td>3</td>\n",
       "      <td>2016</td>\n",
       "      <td>последний</td>\n",
       "      <td>0.625000</td>\n",
       "      <td>0.166667</td>\n",
       "      <td>0.72</td>\n",
       "    </tr>\n",
       "    <tr>\n",
       "      <td>19441</td>\n",
       "      <td>18</td>\n",
       "      <td>800000.0</td>\n",
       "      <td>53.0</td>\n",
       "      <td>2018-06-20</td>\n",
       "      <td>2</td>\n",
       "      <td>NaN</td>\n",
       "      <td>5</td>\n",
       "      <td>30.5</td>\n",
       "      <td>2</td>\n",
       "      <td>False</td>\n",
       "      <td>...</td>\n",
       "      <td>9999.0</td>\n",
       "      <td>45.0</td>\n",
       "      <td>15094.339623</td>\n",
       "      <td>2</td>\n",
       "      <td>6</td>\n",
       "      <td>2018</td>\n",
       "      <td>другой</td>\n",
       "      <td>0.575472</td>\n",
       "      <td>0.171698</td>\n",
       "      <td>0.80</td>\n",
       "    </tr>\n",
       "    <tr>\n",
       "      <td>20441</td>\n",
       "      <td>6</td>\n",
       "      <td>600000.0</td>\n",
       "      <td>42.0</td>\n",
       "      <td>2017-10-13</td>\n",
       "      <td>2</td>\n",
       "      <td>NaN</td>\n",
       "      <td>5</td>\n",
       "      <td>31.0</td>\n",
       "      <td>5</td>\n",
       "      <td>False</td>\n",
       "      <td>...</td>\n",
       "      <td>9999.0</td>\n",
       "      <td>29.0</td>\n",
       "      <td>14285.714286</td>\n",
       "      <td>4</td>\n",
       "      <td>10</td>\n",
       "      <td>2017</td>\n",
       "      <td>последний</td>\n",
       "      <td>0.738095</td>\n",
       "      <td>0.142857</td>\n",
       "      <td>0.60</td>\n",
       "    </tr>\n",
       "    <tr>\n",
       "      <td>16032</td>\n",
       "      <td>8</td>\n",
       "      <td>480000.0</td>\n",
       "      <td>32.0</td>\n",
       "      <td>2019-01-06</td>\n",
       "      <td>1</td>\n",
       "      <td>NaN</td>\n",
       "      <td>2</td>\n",
       "      <td>16.0</td>\n",
       "      <td>1</td>\n",
       "      <td>False</td>\n",
       "      <td>...</td>\n",
       "      <td>9999.0</td>\n",
       "      <td>83.0</td>\n",
       "      <td>15000.000000</td>\n",
       "      <td>6</td>\n",
       "      <td>1</td>\n",
       "      <td>2019</td>\n",
       "      <td>первый</td>\n",
       "      <td>0.500000</td>\n",
       "      <td>0.284375</td>\n",
       "      <td>0.48</td>\n",
       "    </tr>\n",
       "    <tr>\n",
       "      <td>15760</td>\n",
       "      <td>7</td>\n",
       "      <td>780000.0</td>\n",
       "      <td>42.1</td>\n",
       "      <td>2016-05-13</td>\n",
       "      <td>1</td>\n",
       "      <td>2.5</td>\n",
       "      <td>5</td>\n",
       "      <td>17.1</td>\n",
       "      <td>5</td>\n",
       "      <td>False</td>\n",
       "      <td>...</td>\n",
       "      <td>9999.0</td>\n",
       "      <td>750.0</td>\n",
       "      <td>18527.315914</td>\n",
       "      <td>4</td>\n",
       "      <td>5</td>\n",
       "      <td>2016</td>\n",
       "      <td>последний</td>\n",
       "      <td>0.406176</td>\n",
       "      <td>0.213777</td>\n",
       "      <td>0.78</td>\n",
       "    </tr>\n",
       "  </tbody>\n",
       "</table>\n",
       "<p>5 rows × 30 columns</p>\n",
       "</div>"
      ],
      "text/plain": [
       "       total_images  last_price  total_area first_day_exposition  rooms  \\\n",
       "18976             2    720000.0        48.0           2016-03-19      2   \n",
       "19441            18    800000.0        53.0           2018-06-20      2   \n",
       "20441             6    600000.0        42.0           2017-10-13      2   \n",
       "16032             8    480000.0        32.0           2019-01-06      1   \n",
       "15760             7    780000.0        42.1           2016-05-13      1   \n",
       "\n",
       "       ceiling_height  floors_total  living_area  floor  is_apartment  ...  \\\n",
       "18976             NaN             3         30.0      3         False  ...   \n",
       "19441             NaN             5         30.5      2         False  ...   \n",
       "20441             NaN             5         31.0      5         False  ...   \n",
       "16032             NaN             2         16.0      1         False  ...   \n",
       "15760             2.5             5         17.1      5         False  ...   \n",
       "\n",
       "       ponds_nearest  days_exposition  price_sq_meter  weekday month  year  \\\n",
       "18976         9999.0            288.0    15000.000000        5     3  2016   \n",
       "19441         9999.0             45.0    15094.339623        2     6  2018   \n",
       "20441         9999.0             29.0    14285.714286        4    10  2017   \n",
       "16032         9999.0             83.0    15000.000000        6     1  2019   \n",
       "15760         9999.0            750.0    18527.315914        4     5  2016   \n",
       "\n",
       "       floor_first_last  living_area_part  kitchen_area_part  price_mln  \n",
       "18976         последний          0.625000           0.166667       0.72  \n",
       "19441            другой          0.575472           0.171698       0.80  \n",
       "20441         последний          0.738095           0.142857       0.60  \n",
       "16032            первый          0.500000           0.284375       0.48  \n",
       "15760         последний          0.406176           0.213777       0.78  \n",
       "\n",
       "[5 rows x 30 columns]"
      ]
     },
     "execution_count": 33,
     "metadata": {},
     "output_type": "execute_result"
    }
   ],
   "source": [
    "df.query('price_mln < 1').sample(5)"
   ]
  },
  {
   "cell_type": "code",
   "execution_count": 34,
   "metadata": {},
   "outputs": [
    {
     "data": {
      "text/plain": [
       "Сланцы                   83\n",
       "Бокситогорск             14\n",
       "Пикалёво                 11\n",
       "Ивангород                 5\n",
       "Кириши                    4\n",
       "                         ..\n",
       "поселок Цвылёво           1\n",
       "село Паша                 1\n",
       "поселок Пчевжа            1\n",
       "деревня Бор               1\n",
       "деревня Большой Сабск     1\n",
       "Name: locality_name, Length: 75, dtype: int64"
      ]
     },
     "execution_count": 34,
     "metadata": {},
     "output_type": "execute_result"
    }
   ],
   "source": [
    "df.query('price_mln < 1')['locality_name'].value_counts()"
   ]
  },
  {
   "cell_type": "markdown",
   "metadata": {},
   "source": [
    "Кажется, все в порядке. Это не ошибки, это квартиры очень, очень далеко от Санкт-Петербурга в небольших населенных пунктах."
   ]
  },
  {
   "cell_type": "markdown",
   "metadata": {},
   "source": [
    "####  Число комнат"
   ]
  },
  {
   "cell_type": "code",
   "execution_count": 35,
   "metadata": {},
   "outputs": [
    {
     "data": {
      "text/plain": [
       "count    23565.000000\n",
       "mean         2.070656\n",
       "std          1.078591\n",
       "min          0.000000\n",
       "25%          1.000000\n",
       "50%          2.000000\n",
       "75%          3.000000\n",
       "max         19.000000\n",
       "Name: rooms, dtype: float64"
      ]
     },
     "execution_count": 35,
     "metadata": {},
     "output_type": "execute_result"
    }
   ],
   "source": [
    "df['rooms'].describe()"
   ]
  },
  {
   "cell_type": "code",
   "execution_count": 36,
   "metadata": {},
   "outputs": [
    {
     "data": {
      "text/plain": [
       "array([[<matplotlib.axes._subplots.AxesSubplot object at 0x1188c7a10>]],\n",
       "      dtype=object)"
      ]
     },
     "execution_count": 36,
     "metadata": {},
     "output_type": "execute_result"
    },
    {
     "data": {
      "image/png": "[encoded data removed]",
      "text/plain": [
       "<Figure size 1080x360 with 1 Axes>"
      ]
     },
     "metadata": {
      "needs_background": "light"
     },
     "output_type": "display_data"
    }
   ],
   "source": [
    "df.hist(column='rooms', bins=20, grid=True, figsize=(15,5))"
   ]
  },
  {
   "cell_type": "markdown",
   "metadata": {},
   "source": [
    "На гистограмме видим, что большинство наблюдений попадают в диапазон от 1 до 3 комнат, как и ожидалось. Однако есть какие-то значения с 0 комнат. Проверим, что это, возможно студии или свободная планировка."
   ]
  },
  {
   "cell_type": "code",
   "execution_count": 37,
   "metadata": {},
   "outputs": [
    {
     "data": {
      "text/plain": [
       "194"
      ]
     },
     "execution_count": 37,
     "metadata": {},
     "output_type": "execute_result"
    }
   ],
   "source": [
    "len(df.query('rooms == 0'))"
   ]
  },
  {
   "cell_type": "code",
   "execution_count": 38,
   "metadata": {},
   "outputs": [
    {
     "data": {
      "text/html": [
       "<div>\n",
       "<style scoped>\n",
       "    .dataframe tbody tr th:only-of-type {\n",
       "        vertical-align: middle;\n",
       "    }\n",
       "\n",
       "    .dataframe tbody tr th {\n",
       "        vertical-align: top;\n",
       "    }\n",
       "\n",
       "    .dataframe thead th {\n",
       "        text-align: right;\n",
       "    }\n",
       "</style>\n",
       "<table border=\"1\" class=\"dataframe\">\n",
       "  <thead>\n",
       "    <tr style=\"text-align: right;\">\n",
       "      <th></th>\n",
       "      <th>total_images</th>\n",
       "      <th>last_price</th>\n",
       "      <th>total_area</th>\n",
       "      <th>first_day_exposition</th>\n",
       "      <th>rooms</th>\n",
       "      <th>ceiling_height</th>\n",
       "      <th>floors_total</th>\n",
       "      <th>living_area</th>\n",
       "      <th>floor</th>\n",
       "      <th>is_apartment</th>\n",
       "      <th>...</th>\n",
       "      <th>ponds_nearest</th>\n",
       "      <th>days_exposition</th>\n",
       "      <th>price_sq_meter</th>\n",
       "      <th>weekday</th>\n",
       "      <th>month</th>\n",
       "      <th>year</th>\n",
       "      <th>floor_first_last</th>\n",
       "      <th>living_area_part</th>\n",
       "      <th>kitchen_area_part</th>\n",
       "      <th>price_mln</th>\n",
       "    </tr>\n",
       "  </thead>\n",
       "  <tbody>\n",
       "    <tr>\n",
       "      <td>144</td>\n",
       "      <td>1</td>\n",
       "      <td>2450000.0</td>\n",
       "      <td>27.00</td>\n",
       "      <td>2017-03-30</td>\n",
       "      <td>0</td>\n",
       "      <td>NaN</td>\n",
       "      <td>24</td>\n",
       "      <td>15.50</td>\n",
       "      <td>2</td>\n",
       "      <td>False</td>\n",
       "      <td>...</td>\n",
       "      <td>9999.0</td>\n",
       "      <td>181.0</td>\n",
       "      <td>90740.740741</td>\n",
       "      <td>3</td>\n",
       "      <td>3</td>\n",
       "      <td>2017</td>\n",
       "      <td>другой</td>\n",
       "      <td>0.574074</td>\n",
       "      <td>0.337037</td>\n",
       "      <td>2.450</td>\n",
       "    </tr>\n",
       "    <tr>\n",
       "      <td>349</td>\n",
       "      <td>4</td>\n",
       "      <td>2320000.0</td>\n",
       "      <td>25.00</td>\n",
       "      <td>2017-09-27</td>\n",
       "      <td>0</td>\n",
       "      <td>NaN</td>\n",
       "      <td>14</td>\n",
       "      <td>17.00</td>\n",
       "      <td>1</td>\n",
       "      <td>False</td>\n",
       "      <td>...</td>\n",
       "      <td>9999.0</td>\n",
       "      <td>45.0</td>\n",
       "      <td>92800.000000</td>\n",
       "      <td>2</td>\n",
       "      <td>9</td>\n",
       "      <td>2017</td>\n",
       "      <td>первый</td>\n",
       "      <td>0.680000</td>\n",
       "      <td>0.364000</td>\n",
       "      <td>2.320</td>\n",
       "    </tr>\n",
       "    <tr>\n",
       "      <td>440</td>\n",
       "      <td>8</td>\n",
       "      <td>2480000.0</td>\n",
       "      <td>27.11</td>\n",
       "      <td>2018-03-12</td>\n",
       "      <td>0</td>\n",
       "      <td>NaN</td>\n",
       "      <td>17</td>\n",
       "      <td>24.75</td>\n",
       "      <td>4</td>\n",
       "      <td>False</td>\n",
       "      <td>...</td>\n",
       "      <td>982.0</td>\n",
       "      <td>64.0</td>\n",
       "      <td>91479.158982</td>\n",
       "      <td>0</td>\n",
       "      <td>3</td>\n",
       "      <td>2018</td>\n",
       "      <td>другой</td>\n",
       "      <td>0.912947</td>\n",
       "      <td>0.335669</td>\n",
       "      <td>2.480</td>\n",
       "    </tr>\n",
       "    <tr>\n",
       "      <td>508</td>\n",
       "      <td>0</td>\n",
       "      <td>3375000.0</td>\n",
       "      <td>34.40</td>\n",
       "      <td>2017-03-28</td>\n",
       "      <td>0</td>\n",
       "      <td>NaN</td>\n",
       "      <td>26</td>\n",
       "      <td>24.30</td>\n",
       "      <td>19</td>\n",
       "      <td>False</td>\n",
       "      <td>...</td>\n",
       "      <td>593.0</td>\n",
       "      <td>430.0</td>\n",
       "      <td>98110.465116</td>\n",
       "      <td>1</td>\n",
       "      <td>3</td>\n",
       "      <td>2017</td>\n",
       "      <td>другой</td>\n",
       "      <td>0.706395</td>\n",
       "      <td>0.264535</td>\n",
       "      <td>3.375</td>\n",
       "    </tr>\n",
       "    <tr>\n",
       "      <td>608</td>\n",
       "      <td>2</td>\n",
       "      <td>1850000.0</td>\n",
       "      <td>25.00</td>\n",
       "      <td>2019-02-20</td>\n",
       "      <td>0</td>\n",
       "      <td>NaN</td>\n",
       "      <td>10</td>\n",
       "      <td>18.00</td>\n",
       "      <td>7</td>\n",
       "      <td>False</td>\n",
       "      <td>...</td>\n",
       "      <td>9999.0</td>\n",
       "      <td>29.0</td>\n",
       "      <td>74000.000000</td>\n",
       "      <td>2</td>\n",
       "      <td>2</td>\n",
       "      <td>2019</td>\n",
       "      <td>другой</td>\n",
       "      <td>0.720000</td>\n",
       "      <td>0.364000</td>\n",
       "      <td>1.850</td>\n",
       "    </tr>\n",
       "    <tr>\n",
       "      <td>...</td>\n",
       "      <td>...</td>\n",
       "      <td>...</td>\n",
       "      <td>...</td>\n",
       "      <td>...</td>\n",
       "      <td>...</td>\n",
       "      <td>...</td>\n",
       "      <td>...</td>\n",
       "      <td>...</td>\n",
       "      <td>...</td>\n",
       "      <td>...</td>\n",
       "      <td>...</td>\n",
       "      <td>...</td>\n",
       "      <td>...</td>\n",
       "      <td>...</td>\n",
       "      <td>...</td>\n",
       "      <td>...</td>\n",
       "      <td>...</td>\n",
       "      <td>...</td>\n",
       "      <td>...</td>\n",
       "      <td>...</td>\n",
       "      <td>...</td>\n",
       "    </tr>\n",
       "    <tr>\n",
       "      <td>23210</td>\n",
       "      <td>7</td>\n",
       "      <td>3200000.0</td>\n",
       "      <td>26.00</td>\n",
       "      <td>2017-09-01</td>\n",
       "      <td>0</td>\n",
       "      <td>NaN</td>\n",
       "      <td>25</td>\n",
       "      <td>18.00</td>\n",
       "      <td>16</td>\n",
       "      <td>False</td>\n",
       "      <td>...</td>\n",
       "      <td>623.0</td>\n",
       "      <td>14.0</td>\n",
       "      <td>123076.923077</td>\n",
       "      <td>4</td>\n",
       "      <td>9</td>\n",
       "      <td>2017</td>\n",
       "      <td>другой</td>\n",
       "      <td>0.692308</td>\n",
       "      <td>0.350000</td>\n",
       "      <td>3.200</td>\n",
       "    </tr>\n",
       "    <tr>\n",
       "      <td>23442</td>\n",
       "      <td>0</td>\n",
       "      <td>2500000.0</td>\n",
       "      <td>27.70</td>\n",
       "      <td>2017-09-28</td>\n",
       "      <td>0</td>\n",
       "      <td>NaN</td>\n",
       "      <td>24</td>\n",
       "      <td>18.00</td>\n",
       "      <td>4</td>\n",
       "      <td>False</td>\n",
       "      <td>...</td>\n",
       "      <td>9999.0</td>\n",
       "      <td>4.0</td>\n",
       "      <td>90252.707581</td>\n",
       "      <td>3</td>\n",
       "      <td>9</td>\n",
       "      <td>2017</td>\n",
       "      <td>другой</td>\n",
       "      <td>0.649819</td>\n",
       "      <td>0.328520</td>\n",
       "      <td>2.500</td>\n",
       "    </tr>\n",
       "    <tr>\n",
       "      <td>23554</td>\n",
       "      <td>15</td>\n",
       "      <td>3350000.0</td>\n",
       "      <td>26.00</td>\n",
       "      <td>2018-09-07</td>\n",
       "      <td>0</td>\n",
       "      <td>NaN</td>\n",
       "      <td>19</td>\n",
       "      <td>18.00</td>\n",
       "      <td>8</td>\n",
       "      <td>False</td>\n",
       "      <td>...</td>\n",
       "      <td>112.0</td>\n",
       "      <td>31.0</td>\n",
       "      <td>128846.153846</td>\n",
       "      <td>4</td>\n",
       "      <td>9</td>\n",
       "      <td>2018</td>\n",
       "      <td>другой</td>\n",
       "      <td>0.692308</td>\n",
       "      <td>0.350000</td>\n",
       "      <td>3.350</td>\n",
       "    </tr>\n",
       "    <tr>\n",
       "      <td>23592</td>\n",
       "      <td>10</td>\n",
       "      <td>1450000.0</td>\n",
       "      <td>29.00</td>\n",
       "      <td>2017-11-11</td>\n",
       "      <td>0</td>\n",
       "      <td>NaN</td>\n",
       "      <td>9</td>\n",
       "      <td>18.00</td>\n",
       "      <td>8</td>\n",
       "      <td>False</td>\n",
       "      <td>...</td>\n",
       "      <td>9999.0</td>\n",
       "      <td>82.0</td>\n",
       "      <td>50000.000000</td>\n",
       "      <td>5</td>\n",
       "      <td>11</td>\n",
       "      <td>2017</td>\n",
       "      <td>другой</td>\n",
       "      <td>0.620690</td>\n",
       "      <td>0.313793</td>\n",
       "      <td>1.450</td>\n",
       "    </tr>\n",
       "    <tr>\n",
       "      <td>23637</td>\n",
       "      <td>8</td>\n",
       "      <td>2350000.0</td>\n",
       "      <td>26.00</td>\n",
       "      <td>2018-06-26</td>\n",
       "      <td>0</td>\n",
       "      <td>NaN</td>\n",
       "      <td>25</td>\n",
       "      <td>17.00</td>\n",
       "      <td>4</td>\n",
       "      <td>False</td>\n",
       "      <td>...</td>\n",
       "      <td>9999.0</td>\n",
       "      <td>207.0</td>\n",
       "      <td>90384.615385</td>\n",
       "      <td>1</td>\n",
       "      <td>6</td>\n",
       "      <td>2018</td>\n",
       "      <td>другой</td>\n",
       "      <td>0.653846</td>\n",
       "      <td>0.350000</td>\n",
       "      <td>2.350</td>\n",
       "    </tr>\n",
       "  </tbody>\n",
       "</table>\n",
       "<p>194 rows × 30 columns</p>\n",
       "</div>"
      ],
      "text/plain": [
       "       total_images  last_price  total_area first_day_exposition  rooms  \\\n",
       "144               1   2450000.0       27.00           2017-03-30      0   \n",
       "349               4   2320000.0       25.00           2017-09-27      0   \n",
       "440               8   2480000.0       27.11           2018-03-12      0   \n",
       "508               0   3375000.0       34.40           2017-03-28      0   \n",
       "608               2   1850000.0       25.00           2019-02-20      0   \n",
       "...             ...         ...         ...                  ...    ...   \n",
       "23210             7   3200000.0       26.00           2017-09-01      0   \n",
       "23442             0   2500000.0       27.70           2017-09-28      0   \n",
       "23554            15   3350000.0       26.00           2018-09-07      0   \n",
       "23592            10   1450000.0       29.00           2017-11-11      0   \n",
       "23637             8   2350000.0       26.00           2018-06-26      0   \n",
       "\n",
       "       ceiling_height  floors_total  living_area  floor  is_apartment  ...  \\\n",
       "144               NaN            24        15.50      2         False  ...   \n",
       "349               NaN            14        17.00      1         False  ...   \n",
       "440               NaN            17        24.75      4         False  ...   \n",
       "508               NaN            26        24.30     19         False  ...   \n",
       "608               NaN            10        18.00      7         False  ...   \n",
       "...               ...           ...          ...    ...           ...  ...   \n",
       "23210             NaN            25        18.00     16         False  ...   \n",
       "23442             NaN            24        18.00      4         False  ...   \n",
       "23554             NaN            19        18.00      8         False  ...   \n",
       "23592             NaN             9        18.00      8         False  ...   \n",
       "23637             NaN            25        17.00      4         False  ...   \n",
       "\n",
       "       ponds_nearest  days_exposition  price_sq_meter  weekday month  year  \\\n",
       "144           9999.0            181.0    90740.740741        3     3  2017   \n",
       "349           9999.0             45.0    92800.000000        2     9  2017   \n",
       "440            982.0             64.0    91479.158982        0     3  2018   \n",
       "508            593.0            430.0    98110.465116        1     3  2017   \n",
       "608           9999.0             29.0    74000.000000        2     2  2019   \n",
       "...              ...              ...             ...      ...   ...   ...   \n",
       "23210          623.0             14.0   123076.923077        4     9  2017   \n",
       "23442         9999.0              4.0    90252.707581        3     9  2017   \n",
       "23554          112.0             31.0   128846.153846        4     9  2018   \n",
       "23592         9999.0             82.0    50000.000000        5    11  2017   \n",
       "23637         9999.0            207.0    90384.615385        1     6  2018   \n",
       "\n",
       "       floor_first_last  living_area_part  kitchen_area_part  price_mln  \n",
       "144              другой          0.574074           0.337037      2.450  \n",
       "349              первый          0.680000           0.364000      2.320  \n",
       "440              другой          0.912947           0.335669      2.480  \n",
       "508              другой          0.706395           0.264535      3.375  \n",
       "608              другой          0.720000           0.364000      1.850  \n",
       "...                 ...               ...                ...        ...  \n",
       "23210            другой          0.692308           0.350000      3.200  \n",
       "23442            другой          0.649819           0.328520      2.500  \n",
       "23554            другой          0.692308           0.350000      3.350  \n",
       "23592            другой          0.620690           0.313793      1.450  \n",
       "23637            другой          0.653846           0.350000      2.350  \n",
       "\n",
       "[194 rows x 30 columns]"
      ]
     },
     "execution_count": 38,
     "metadata": {},
     "output_type": "execute_result"
    }
   ],
   "source": [
    "df.query('(rooms == 0) & ((studio == True) | (open_plan == True))')"
   ]
  },
  {
   "cell_type": "markdown",
   "metadata": {},
   "source": [
    "Все в порядке, в количестве комнат ошибок нет, все квартиры с 0 комнат - это действительно квартиры свободной планировки и студии."
   ]
  },
  {
   "cell_type": "markdown",
   "metadata": {},
   "source": [
    "#### Высота потолков"
   ]
  },
  {
   "cell_type": "code",
   "execution_count": 39,
   "metadata": {},
   "outputs": [
    {
     "data": {
      "text/plain": [
       "count    14481.000000\n",
       "mean         2.771283\n",
       "std          1.261983\n",
       "min          1.000000\n",
       "25%          2.510000\n",
       "50%          2.650000\n",
       "75%          2.800000\n",
       "max        100.000000\n",
       "Name: ceiling_height, dtype: float64"
      ]
     },
     "execution_count": 39,
     "metadata": {},
     "output_type": "execute_result"
    }
   ],
   "source": [
    "df['ceiling_height'].describe()"
   ]
  },
  {
   "cell_type": "code",
   "execution_count": 40,
   "metadata": {},
   "outputs": [
    {
     "data": {
      "text/plain": [
       "array([[<matplotlib.axes._subplots.AxesSubplot object at 0x118cd6550>]],\n",
       "      dtype=object)"
      ]
     },
     "execution_count": 40,
     "metadata": {},
     "output_type": "execute_result"
    },
    {
     "data": {
      "image/png": "[encoded data removed]",
      "text/plain": [
       "<Figure size 1080x360 with 1 Axes>"
      ]
     },
     "metadata": {
      "needs_background": "light"
     },
     "output_type": "display_data"
    }
   ],
   "source": [
    "df.hist(column='ceiling_height', grid=True, figsize=(15,5))"
   ]
  },
  {
   "cell_type": "markdown",
   "metadata": {},
   "source": [
    "Здесь из статистики по столбцу и гистограммы явно видно 3 аномалии:\n",
    "    1. высота потолка меньше роста человека - минимальное значение всего 1 метр\n",
    "    2. потолок больше 20 м\n",
    "    3. максимально высокий потолок 100 м\n",
    "Это ошибочные значения, от которых нужно будет избавиться, по возможности.\n",
    "\n",
    "**Вывод**\n",
    "- Рассчитанные средние и медианы по столбцам площадь, цена, число комнат, высота потолков выглядят правдоподобно.\n",
    "- Есть артефакты в данных, например, неправильная высота потолка, квартиры с площадью кухни более 70%, и тому подобное. От таких значений нужно будет избавиться, это явные ошибки, которые к тому же могут исказить общую картину."
   ]
  },
  {
   "cell_type": "markdown",
   "metadata": {},
   "source": [
    "### Время продажи квартиры\n",
    "\n",
    "Изучим среднее время продажи квартиры. Построим гистограмму и рассчитаем статистические показатели.\n",
    " "
   ]
  },
  {
   "cell_type": "code",
   "execution_count": 41,
   "metadata": {},
   "outputs": [
    {
     "data": {
      "text/plain": [
       "array([[<matplotlib.axes._subplots.AxesSubplot object at 0x114f19c50>]],\n",
       "      dtype=object)"
      ]
     },
     "execution_count": 41,
     "metadata": {},
     "output_type": "execute_result"
    },
    {
     "data": {
      "image/png": "[encoded data removed]",
      "text/plain": [
       "<Figure size 1080x360 with 1 Axes>"
      ]
     },
     "metadata": {
      "needs_background": "light"
     },
     "output_type": "display_data"
    }
   ],
   "source": [
    "df.hist(column='days_exposition', figsize=(15,5))"
   ]
  },
  {
   "cell_type": "code",
   "execution_count": 42,
   "metadata": {},
   "outputs": [
    {
     "data": {
      "text/plain": [
       "count    20394.000000\n",
       "mean       180.741395\n",
       "std        219.732782\n",
       "min          1.000000\n",
       "25%         45.000000\n",
       "50%         95.000000\n",
       "75%        231.000000\n",
       "max       1580.000000\n",
       "Name: days_exposition, dtype: float64"
      ]
     },
     "execution_count": 42,
     "metadata": {},
     "output_type": "execute_result"
    }
   ],
   "source": [
    "df['days_exposition'].describe()"
   ]
  },
  {
   "cell_type": "markdown",
   "metadata": {},
   "source": [
    "**Вывод**\n",
    "\n",
    "Из гистограммы и статистик видно, что большинство продаж занимают от 1 до приблизительно 180 дней, т.е. менее 6 месяцев.\n",
    "\n",
    "Среднее значение равно 180 дням, а медианное - 95.\n",
    "В первом квартиле значения до 45 дней, в этом случае можно говорить, что продажа совершена очень быстро. В то же время, 25% всех продаж занимают свыше 231 дня (3 квартиль), а максимально долгая продажа была 1580 дней, т.е. больше 4 лет! Бывает и такое."
   ]
  },
  {
   "cell_type": "markdown",
   "metadata": {},
   "source": [
    "### Выбросы\n",
    "\n",
    "Уберем редкие и выбивающиеся значения, которые мы обнаружили ранее.\n",
    "\n",
    "**1) Площадь квартиры**\n",
    "- выведем еще раз показатели по датафрейму, описывающему только площади."
   ]
  },
  {
   "cell_type": "code",
   "execution_count": 43,
   "metadata": {},
   "outputs": [
    {
     "data": {
      "text/html": [
       "<div>\n",
       "<style scoped>\n",
       "    .dataframe tbody tr th:only-of-type {\n",
       "        vertical-align: middle;\n",
       "    }\n",
       "\n",
       "    .dataframe tbody tr th {\n",
       "        vertical-align: top;\n",
       "    }\n",
       "\n",
       "    .dataframe thead th {\n",
       "        text-align: right;\n",
       "    }\n",
       "</style>\n",
       "<table border=\"1\" class=\"dataframe\">\n",
       "  <thead>\n",
       "    <tr style=\"text-align: right;\">\n",
       "      <th></th>\n",
       "      <th>total_area</th>\n",
       "      <th>living_area</th>\n",
       "      <th>kitchen_area</th>\n",
       "      <th>living_area_part</th>\n",
       "      <th>kitchen_area_part</th>\n",
       "    </tr>\n",
       "  </thead>\n",
       "  <tbody>\n",
       "    <tr>\n",
       "      <td>count</td>\n",
       "      <td>23565.000000</td>\n",
       "      <td>23565.000000</td>\n",
       "      <td>23565.000000</td>\n",
       "      <td>23565.000000</td>\n",
       "      <td>23565.000000</td>\n",
       "    </tr>\n",
       "    <tr>\n",
       "      <td>mean</td>\n",
       "      <td>60.322824</td>\n",
       "      <td>34.324899</td>\n",
       "      <td>10.423234</td>\n",
       "      <td>0.564031</td>\n",
       "      <td>0.189397</td>\n",
       "    </tr>\n",
       "    <tr>\n",
       "      <td>std</td>\n",
       "      <td>35.657060</td>\n",
       "      <td>21.722006</td>\n",
       "      <td>5.631746</td>\n",
       "      <td>0.110860</td>\n",
       "      <td>0.075767</td>\n",
       "    </tr>\n",
       "    <tr>\n",
       "      <td>min</td>\n",
       "      <td>12.000000</td>\n",
       "      <td>2.000000</td>\n",
       "      <td>1.300000</td>\n",
       "      <td>0.021583</td>\n",
       "      <td>0.018200</td>\n",
       "    </tr>\n",
       "    <tr>\n",
       "      <td>25%</td>\n",
       "      <td>40.000000</td>\n",
       "      <td>18.400000</td>\n",
       "      <td>7.300000</td>\n",
       "      <td>0.490716</td>\n",
       "      <td>0.133654</td>\n",
       "    </tr>\n",
       "    <tr>\n",
       "      <td>50%</td>\n",
       "      <td>52.000000</td>\n",
       "      <td>30.300000</td>\n",
       "      <td>9.100000</td>\n",
       "      <td>0.566667</td>\n",
       "      <td>0.173913</td>\n",
       "    </tr>\n",
       "    <tr>\n",
       "      <td>75%</td>\n",
       "      <td>69.700000</td>\n",
       "      <td>42.700000</td>\n",
       "      <td>11.410000</td>\n",
       "      <td>0.638298</td>\n",
       "      <td>0.234513</td>\n",
       "    </tr>\n",
       "    <tr>\n",
       "      <td>max</td>\n",
       "      <td>900.000000</td>\n",
       "      <td>409.700000</td>\n",
       "      <td>112.000000</td>\n",
       "      <td>1.515476</td>\n",
       "      <td>0.787879</td>\n",
       "    </tr>\n",
       "  </tbody>\n",
       "</table>\n",
       "</div>"
      ],
      "text/plain": [
       "         total_area   living_area  kitchen_area  living_area_part  \\\n",
       "count  23565.000000  23565.000000  23565.000000      23565.000000   \n",
       "mean      60.322824     34.324899     10.423234          0.564031   \n",
       "std       35.657060     21.722006      5.631746          0.110860   \n",
       "min       12.000000      2.000000      1.300000          0.021583   \n",
       "25%       40.000000     18.400000      7.300000          0.490716   \n",
       "50%       52.000000     30.300000      9.100000          0.566667   \n",
       "75%       69.700000     42.700000     11.410000          0.638298   \n",
       "max      900.000000    409.700000    112.000000          1.515476   \n",
       "\n",
       "       kitchen_area_part  \n",
       "count       23565.000000  \n",
       "mean            0.189397  \n",
       "std             0.075767  \n",
       "min             0.018200  \n",
       "25%             0.133654  \n",
       "50%             0.173913  \n",
       "75%             0.234513  \n",
       "max             0.787879  "
      ]
     },
     "execution_count": 43,
     "metadata": {},
     "output_type": "execute_result"
    }
   ],
   "source": [
    "area.describe()"
   ]
  },
  {
   "cell_type": "markdown",
   "metadata": {},
   "source": [
    "Уберем из датасета следующие аномалии:\n",
    "1. living_area_part больше 100% \n",
    "2. living_area_part меньше 20%, так как такое вряд ли вообще возможно\n",
    "3. kitchen_area_part более 50%, так как на гистограмме мы видели, что таких значений единицы, да и это не очень правдоподобно, что кухня занимает больше половины квартиры"
   ]
  },
  {
   "cell_type": "code",
   "execution_count": 44,
   "metadata": {},
   "outputs": [
    {
     "data": {
      "text/plain": [
       "128"
      ]
     },
     "execution_count": 44,
     "metadata": {},
     "output_type": "execute_result"
    }
   ],
   "source": [
    "area_error = df.query('(living_area_part > 1) | (living_area_part < 0.2) | (kitchen_area_part > 0.5)')\n",
    "len(area_error)"
   ]
  },
  {
   "cell_type": "markdown",
   "metadata": {},
   "source": [
    "Всего 128 строк, это не очень много, убираем их без сомнения."
   ]
  },
  {
   "cell_type": "code",
   "execution_count": 45,
   "metadata": {},
   "outputs": [
    {
     "data": {
      "text/html": [
       "<div>\n",
       "<style scoped>\n",
       "    .dataframe tbody tr th:only-of-type {\n",
       "        vertical-align: middle;\n",
       "    }\n",
       "\n",
       "    .dataframe tbody tr th {\n",
       "        vertical-align: top;\n",
       "    }\n",
       "\n",
       "    .dataframe thead th {\n",
       "        text-align: right;\n",
       "    }\n",
       "</style>\n",
       "<table border=\"1\" class=\"dataframe\">\n",
       "  <thead>\n",
       "    <tr style=\"text-align: right;\">\n",
       "      <th></th>\n",
       "      <th>total_images</th>\n",
       "      <th>last_price</th>\n",
       "      <th>total_area</th>\n",
       "      <th>first_day_exposition</th>\n",
       "      <th>rooms</th>\n",
       "      <th>ceiling_height</th>\n",
       "      <th>floors_total</th>\n",
       "      <th>living_area</th>\n",
       "      <th>floor</th>\n",
       "      <th>is_apartment</th>\n",
       "      <th>...</th>\n",
       "      <th>ponds_nearest</th>\n",
       "      <th>days_exposition</th>\n",
       "      <th>price_sq_meter</th>\n",
       "      <th>weekday</th>\n",
       "      <th>month</th>\n",
       "      <th>year</th>\n",
       "      <th>floor_first_last</th>\n",
       "      <th>living_area_part</th>\n",
       "      <th>kitchen_area_part</th>\n",
       "      <th>price_mln</th>\n",
       "    </tr>\n",
       "  </thead>\n",
       "  <tbody>\n",
       "  </tbody>\n",
       "</table>\n",
       "<p>0 rows × 30 columns</p>\n",
       "</div>"
      ],
      "text/plain": [
       "Empty DataFrame\n",
       "Columns: [total_images, last_price, total_area, first_day_exposition, rooms, ceiling_height, floors_total, living_area, floor, is_apartment, studio, open_plan, kitchen_area, balcony, locality_name, airports_nearest, cityCenters_nearest, parks_around3000, parks_nearest, ponds_around3000, ponds_nearest, days_exposition, price_sq_meter, weekday, month, year, floor_first_last, living_area_part, kitchen_area_part, price_mln]\n",
       "Index: []\n",
       "\n",
       "[0 rows x 30 columns]"
      ]
     },
     "execution_count": 45,
     "metadata": {},
     "output_type": "execute_result"
    }
   ],
   "source": [
    "df = df.query('index not in @area_error.index')\n",
    "\n",
    "#check\n",
    "df.query('(living_area_part > 1) | (living_area_part < 0.2) | (kitchen_area_part > 0.5)')"
   ]
  },
  {
   "cell_type": "markdown",
   "metadata": {},
   "source": [
    "**2) Высота потолков**\n",
    "\n",
    "Также мы уже видели на гистограммах аномальные значения **высоты потолков**. Посмотрим, сколько их."
   ]
  },
  {
   "cell_type": "code",
   "execution_count": 46,
   "metadata": {
    "scrolled": true
   },
   "outputs": [
    {
     "data": {
      "text/plain": [
       "25"
      ]
     },
     "execution_count": 46,
     "metadata": {},
     "output_type": "execute_result"
    }
   ],
   "source": [
    "ceiling_error = df.query('(ceiling_height < 2) | (ceiling_height > 20)')\n",
    "len(ceiling_error)"
   ]
  },
  {
   "cell_type": "markdown",
   "metadata": {},
   "source": [
    "Всего 25 строк. Смело от них избавляемся."
   ]
  },
  {
   "cell_type": "code",
   "execution_count": 47,
   "metadata": {},
   "outputs": [
    {
     "data": {
      "text/html": [
       "<div>\n",
       "<style scoped>\n",
       "    .dataframe tbody tr th:only-of-type {\n",
       "        vertical-align: middle;\n",
       "    }\n",
       "\n",
       "    .dataframe tbody tr th {\n",
       "        vertical-align: top;\n",
       "    }\n",
       "\n",
       "    .dataframe thead th {\n",
       "        text-align: right;\n",
       "    }\n",
       "</style>\n",
       "<table border=\"1\" class=\"dataframe\">\n",
       "  <thead>\n",
       "    <tr style=\"text-align: right;\">\n",
       "      <th></th>\n",
       "      <th>total_images</th>\n",
       "      <th>last_price</th>\n",
       "      <th>total_area</th>\n",
       "      <th>first_day_exposition</th>\n",
       "      <th>rooms</th>\n",
       "      <th>ceiling_height</th>\n",
       "      <th>floors_total</th>\n",
       "      <th>living_area</th>\n",
       "      <th>floor</th>\n",
       "      <th>is_apartment</th>\n",
       "      <th>...</th>\n",
       "      <th>ponds_nearest</th>\n",
       "      <th>days_exposition</th>\n",
       "      <th>price_sq_meter</th>\n",
       "      <th>weekday</th>\n",
       "      <th>month</th>\n",
       "      <th>year</th>\n",
       "      <th>floor_first_last</th>\n",
       "      <th>living_area_part</th>\n",
       "      <th>kitchen_area_part</th>\n",
       "      <th>price_mln</th>\n",
       "    </tr>\n",
       "  </thead>\n",
       "  <tbody>\n",
       "  </tbody>\n",
       "</table>\n",
       "<p>0 rows × 30 columns</p>\n",
       "</div>"
      ],
      "text/plain": [
       "Empty DataFrame\n",
       "Columns: [total_images, last_price, total_area, first_day_exposition, rooms, ceiling_height, floors_total, living_area, floor, is_apartment, studio, open_plan, kitchen_area, balcony, locality_name, airports_nearest, cityCenters_nearest, parks_around3000, parks_nearest, ponds_around3000, ponds_nearest, days_exposition, price_sq_meter, weekday, month, year, floor_first_last, living_area_part, kitchen_area_part, price_mln]\n",
       "Index: []\n",
       "\n",
       "[0 rows x 30 columns]"
      ]
     },
     "execution_count": 47,
     "metadata": {},
     "output_type": "execute_result"
    }
   ],
   "source": [
    "df = df.query('index not in @ceiling_error.index')\n",
    "\n",
    "#check\n",
    "df.query('(ceiling_height < 2) | (ceiling_height > 20)')"
   ]
  },
  {
   "cell_type": "markdown",
   "metadata": {},
   "source": [
    "**3) Цена**\n",
    "\n",
    "На гистограмме мы видели, что квартир стоимостью больше 30 млн рублей считанные единицы. Значит такие наблюдения не помогут нам в описании общих рыночных трендов. Можно было бы их исключить из анализа совсем, но тогда мы рискуем исказить данные по центру Петербурга, где самые дорогие квартиры, поэтому лучше создадим отдельный датасет только для таких дорогих квартир и позже рассмотрим отдельно факторы, влияющие на их цену."
   ]
  },
  {
   "cell_type": "code",
   "execution_count": 48,
   "metadata": {},
   "outputs": [],
   "source": [
    "#создаем отдельный срез только с дорогими квартирами\n",
    "expensive_flats = df.query('price_mln >= 30')\n",
    "\n",
    "#убираем выбивающиеся по цене квартиры из основного датасета\n",
    "flats = df.query('index not in @expensive_flats.index')"
   ]
  },
  {
   "cell_type": "markdown",
   "metadata": {},
   "source": [
    "**Вывод**\n",
    "\n",
    "Итак, в случае с площадями и высотой потолков мы обнаружили аномальные значения и убрали их из датасета, т.к. во-первых, их было не так много, а во-вторых, это были явно ошибочные значения и значит мы не исказили данные.\n",
    "\n",
    "В случае выбивающихся значений цены все не так однозначно, т.к. цены на недвижимость ничем не ограничены и могут быть сколь угодно высоки. Поэтому для анализа основных рыночных трендов мы убрали слишком дорогие квартиры из основного массива данных, но при этом создали отдельный датасет только для относительно дорогих квартир (стоимостью выше 30 млн рублей)."
   ]
  },
  {
   "cell_type": "markdown",
   "metadata": {},
   "source": [
    "### Факторы, влияющие на стоимость квартиры\n",
    "\n",
    "а) Выясним, зависит ли цена от **площади, числа комнат, удалённости от центра**. Для таких расчетов нам понадобится совместное распределение множества величин.\n",
    "\n",
    "Создадим новый датафрейм, где для каждой квартиры будет 4 значения: цена, площадь, число комнат и удалённость от центра. Построим матрицу диаграмм рассеяния и попарно изучим корреляцию этих 4 факторов."
   ]
  },
  {
   "cell_type": "code",
   "execution_count": 49,
   "metadata": {},
   "outputs": [
    {
     "data": {
      "text/plain": [
       "array([[<matplotlib.axes._subplots.AxesSubplot object at 0x119282490>,\n",
       "        <matplotlib.axes._subplots.AxesSubplot object at 0x11912f4d0>,\n",
       "        <matplotlib.axes._subplots.AxesSubplot object at 0x119515290>,\n",
       "        <matplotlib.axes._subplots.AxesSubplot object at 0x119549a90>],\n",
       "       [<matplotlib.axes._subplots.AxesSubplot object at 0x1195882d0>,\n",
       "        <matplotlib.axes._subplots.AxesSubplot object at 0x1195bfad0>,\n",
       "        <matplotlib.axes._subplots.AxesSubplot object at 0x1195fd310>,\n",
       "        <matplotlib.axes._subplots.AxesSubplot object at 0x119634b10>],\n",
       "       [<matplotlib.axes._subplots.AxesSubplot object at 0x11963e790>,\n",
       "        <matplotlib.axes._subplots.AxesSubplot object at 0x11967f150>,\n",
       "        <matplotlib.axes._subplots.AxesSubplot object at 0x1196e9390>,\n",
       "        <matplotlib.axes._subplots.AxesSubplot object at 0x11971eb90>],\n",
       "       [<matplotlib.axes._subplots.AxesSubplot object at 0x11975e3d0>,\n",
       "        <matplotlib.axes._subplots.AxesSubplot object at 0x119792bd0>,\n",
       "        <matplotlib.axes._subplots.AxesSubplot object at 0x1197d4410>,\n",
       "        <matplotlib.axes._subplots.AxesSubplot object at 0x119807c10>]],\n",
       "      dtype=object)"
      ]
     },
     "execution_count": 49,
     "metadata": {},
     "output_type": "execute_result"
    },
    {
     "data": {
      "image/png": "[encoded data removed]",
      "text/plain": [
       "<Figure size 1080x1080 with 16 Axes>"
      ]
     },
     "metadata": {
      "needs_background": "light"
     },
     "output_type": "display_data"
    }
   ],
   "source": [
    "area_room_loc = flats[['last_price', 'total_area', 'rooms', 'cityCenters_nearest']]\n",
    "\n",
    "pd.plotting.scatter_matrix(area_room_loc, figsize=(15, 15))"
   ]
  },
  {
   "cell_type": "markdown",
   "metadata": {},
   "source": [
    "- Второй сверху график отображает взаимосвязь цены и площади квартиры. Примерно до 100 м2 цена и площадь тесно взаимосвязаны, а дальше при большей площади квартиры значения рассеяны сильнее, но все равно можно говорить о положительной линейной взаимосвязи, т.е. чем больше квартира, тем она дороже.\n",
    "\n",
    "- Трейтий сверху график, цена и количество комнат, не показывает линейной взаимосвязи. Можно лишь заметить, что студии и однокомнатные квартиры в среднем стоят меньше, а также что все квартиры с аномально большим числом комнат лежат где-то в верхнем ценовом диапазоне. Но это все было интуитивно понятно и без графиков.\n",
    "\n",
    "- Если посмотреть на левый нижний график, цена и расстояние от центра, то здесь также нет линейной взаимосвязи.\n",
    "\n",
    "Рассчитаем попарно коэффициенты корреляции для этих же величин."
   ]
  },
  {
   "cell_type": "code",
   "execution_count": 50,
   "metadata": {},
   "outputs": [
    {
     "data": {
      "text/html": [
       "<div>\n",
       "<style scoped>\n",
       "    .dataframe tbody tr th:only-of-type {\n",
       "        vertical-align: middle;\n",
       "    }\n",
       "\n",
       "    .dataframe tbody tr th {\n",
       "        vertical-align: top;\n",
       "    }\n",
       "\n",
       "    .dataframe thead th {\n",
       "        text-align: right;\n",
       "    }\n",
       "</style>\n",
       "<table border=\"1\" class=\"dataframe\">\n",
       "  <thead>\n",
       "    <tr style=\"text-align: right;\">\n",
       "      <th></th>\n",
       "      <th>last_price</th>\n",
       "      <th>total_area</th>\n",
       "      <th>rooms</th>\n",
       "      <th>cityCenters_nearest</th>\n",
       "    </tr>\n",
       "  </thead>\n",
       "  <tbody>\n",
       "    <tr>\n",
       "      <td>last_price</td>\n",
       "      <td>1.000000</td>\n",
       "      <td>0.790135</td>\n",
       "      <td>0.525193</td>\n",
       "      <td>-0.345068</td>\n",
       "    </tr>\n",
       "    <tr>\n",
       "      <td>total_area</td>\n",
       "      <td>0.790135</td>\n",
       "      <td>1.000000</td>\n",
       "      <td>0.797598</td>\n",
       "      <td>-0.217609</td>\n",
       "    </tr>\n",
       "    <tr>\n",
       "      <td>rooms</td>\n",
       "      <td>0.525193</td>\n",
       "      <td>0.797598</td>\n",
       "      <td>1.000000</td>\n",
       "      <td>-0.162152</td>\n",
       "    </tr>\n",
       "    <tr>\n",
       "      <td>cityCenters_nearest</td>\n",
       "      <td>-0.345068</td>\n",
       "      <td>-0.217609</td>\n",
       "      <td>-0.162152</td>\n",
       "      <td>1.000000</td>\n",
       "    </tr>\n",
       "  </tbody>\n",
       "</table>\n",
       "</div>"
      ],
      "text/plain": [
       "                     last_price  total_area     rooms  cityCenters_nearest\n",
       "last_price             1.000000    0.790135  0.525193            -0.345068\n",
       "total_area             0.790135    1.000000  0.797598            -0.217609\n",
       "rooms                  0.525193    0.797598  1.000000            -0.162152\n",
       "cityCenters_nearest   -0.345068   -0.217609 -0.162152             1.000000"
      ]
     },
     "execution_count": 50,
     "metadata": {},
     "output_type": "execute_result"
    }
   ],
   "source": [
    "area_room_loc.corr()"
   ]
  },
  {
   "cell_type": "markdown",
   "metadata": {},
   "source": [
    "Здесь нам интересны только значения первой строки, т.е. коэффициент корреляции цены и других факторов.\n",
    "\n",
    "Самая высокая корреляция между ценой и площадью квартиры, что логично: чем больше квартира, тем дороже она стоит. Коэффициент корреляции цены с количеством комнат и цены с расстоянием от центра говорит о довольно слабой взаимосвязи. \n",
    "\n",
    "Возможно стоит изучить влияние этих факторов на цену за квадратный метр, чтобы делать какие-то выводы."
   ]
  },
  {
   "cell_type": "code",
   "execution_count": 51,
   "metadata": {},
   "outputs": [
    {
     "data": {
      "text/html": [
       "<div>\n",
       "<style scoped>\n",
       "    .dataframe tbody tr th:only-of-type {\n",
       "        vertical-align: middle;\n",
       "    }\n",
       "\n",
       "    .dataframe tbody tr th {\n",
       "        vertical-align: top;\n",
       "    }\n",
       "\n",
       "    .dataframe thead th {\n",
       "        text-align: right;\n",
       "    }\n",
       "</style>\n",
       "<table border=\"1\" class=\"dataframe\">\n",
       "  <thead>\n",
       "    <tr style=\"text-align: right;\">\n",
       "      <th></th>\n",
       "      <th>price_sq_meter</th>\n",
       "      <th>total_area</th>\n",
       "      <th>rooms</th>\n",
       "      <th>cityCenters_nearest</th>\n",
       "    </tr>\n",
       "  </thead>\n",
       "  <tbody>\n",
       "    <tr>\n",
       "      <td>price_sq_meter</td>\n",
       "      <td>1.000000</td>\n",
       "      <td>0.127386</td>\n",
       "      <td>-0.069839</td>\n",
       "      <td>-0.377492</td>\n",
       "    </tr>\n",
       "    <tr>\n",
       "      <td>total_area</td>\n",
       "      <td>0.127386</td>\n",
       "      <td>1.000000</td>\n",
       "      <td>0.797598</td>\n",
       "      <td>-0.217609</td>\n",
       "    </tr>\n",
       "    <tr>\n",
       "      <td>rooms</td>\n",
       "      <td>-0.069839</td>\n",
       "      <td>0.797598</td>\n",
       "      <td>1.000000</td>\n",
       "      <td>-0.162152</td>\n",
       "    </tr>\n",
       "    <tr>\n",
       "      <td>cityCenters_nearest</td>\n",
       "      <td>-0.377492</td>\n",
       "      <td>-0.217609</td>\n",
       "      <td>-0.162152</td>\n",
       "      <td>1.000000</td>\n",
       "    </tr>\n",
       "  </tbody>\n",
       "</table>\n",
       "</div>"
      ],
      "text/plain": [
       "                     price_sq_meter  total_area     rooms  cityCenters_nearest\n",
       "price_sq_meter             1.000000    0.127386 -0.069839            -0.377492\n",
       "total_area                 0.127386    1.000000  0.797598            -0.217609\n",
       "rooms                     -0.069839    0.797598  1.000000            -0.162152\n",
       "cityCenters_nearest       -0.377492   -0.217609 -0.162152             1.000000"
      ]
     },
     "execution_count": 51,
     "metadata": {},
     "output_type": "execute_result"
    }
   ],
   "source": [
    "flats[['price_sq_meter', 'total_area', 'rooms', 'cityCenters_nearest']].corr()"
   ]
  },
  {
   "cell_type": "markdown",
   "metadata": {},
   "source": [
    "Нет, и здесь корреляция цены с количеством комнат и расстоянием от центра довольно низкая. Также стоит обратить внимание, что нет корреляции между общей площадью квартиры и ценой за квадратный метр.\n",
    "\n",
    "Посмотрим, есть ли какие-нибудь корреляции для этих же факторов в сегменте более дорогих квартир."
   ]
  },
  {
   "cell_type": "code",
   "execution_count": 52,
   "metadata": {},
   "outputs": [
    {
     "data": {
      "text/html": [
       "<div>\n",
       "<style scoped>\n",
       "    .dataframe tbody tr th:only-of-type {\n",
       "        vertical-align: middle;\n",
       "    }\n",
       "\n",
       "    .dataframe tbody tr th {\n",
       "        vertical-align: top;\n",
       "    }\n",
       "\n",
       "    .dataframe thead th {\n",
       "        text-align: right;\n",
       "    }\n",
       "</style>\n",
       "<table border=\"1\" class=\"dataframe\">\n",
       "  <thead>\n",
       "    <tr style=\"text-align: right;\">\n",
       "      <th></th>\n",
       "      <th>last_price</th>\n",
       "      <th>total_area</th>\n",
       "      <th>rooms</th>\n",
       "      <th>cityCenters_nearest</th>\n",
       "    </tr>\n",
       "  </thead>\n",
       "  <tbody>\n",
       "    <tr>\n",
       "      <td>last_price</td>\n",
       "      <td>1.000000</td>\n",
       "      <td>0.450888</td>\n",
       "      <td>0.202110</td>\n",
       "      <td>-0.129923</td>\n",
       "    </tr>\n",
       "    <tr>\n",
       "      <td>total_area</td>\n",
       "      <td>0.450888</td>\n",
       "      <td>1.000000</td>\n",
       "      <td>0.687150</td>\n",
       "      <td>0.119666</td>\n",
       "    </tr>\n",
       "    <tr>\n",
       "      <td>rooms</td>\n",
       "      <td>0.202110</td>\n",
       "      <td>0.687150</td>\n",
       "      <td>1.000000</td>\n",
       "      <td>0.059208</td>\n",
       "    </tr>\n",
       "    <tr>\n",
       "      <td>cityCenters_nearest</td>\n",
       "      <td>-0.129923</td>\n",
       "      <td>0.119666</td>\n",
       "      <td>0.059208</td>\n",
       "      <td>1.000000</td>\n",
       "    </tr>\n",
       "  </tbody>\n",
       "</table>\n",
       "</div>"
      ],
      "text/plain": [
       "                     last_price  total_area     rooms  cityCenters_nearest\n",
       "last_price             1.000000    0.450888  0.202110            -0.129923\n",
       "total_area             0.450888    1.000000  0.687150             0.119666\n",
       "rooms                  0.202110    0.687150  1.000000             0.059208\n",
       "cityCenters_nearest   -0.129923    0.119666  0.059208             1.000000"
      ]
     },
     "execution_count": 52,
     "metadata": {},
     "output_type": "execute_result"
    }
   ],
   "source": [
    "expensive_flats[['last_price', 'total_area', 'rooms', 'cityCenters_nearest']].corr()"
   ]
  },
  {
   "cell_type": "markdown",
   "metadata": {},
   "source": [
    "Здесь даже нет сильной зависимости между квадратными метрами и ценой! Значит, на стоимость дорогих квартир влияют совершенно другие факторы."
   ]
  },
  {
   "cell_type": "markdown",
   "metadata": {},
   "source": [
    "б) Зависимость цены от того, **на каком этаже расположена квартира**: первом, последнем или другом. "
   ]
  },
  {
   "cell_type": "code",
   "execution_count": 53,
   "metadata": {},
   "outputs": [],
   "source": [
    "floor = df.pivot_table(index='floor_first_last', values='price_mln', aggfunc='median')"
   ]
  },
  {
   "cell_type": "code",
   "execution_count": 54,
   "metadata": {},
   "outputs": [
    {
     "data": {
      "text/html": [
       "<div>\n",
       "<style scoped>\n",
       "    .dataframe tbody tr th:only-of-type {\n",
       "        vertical-align: middle;\n",
       "    }\n",
       "\n",
       "    .dataframe tbody tr th {\n",
       "        vertical-align: top;\n",
       "    }\n",
       "\n",
       "    .dataframe thead th {\n",
       "        text-align: right;\n",
       "    }\n",
       "</style>\n",
       "<table border=\"1\" class=\"dataframe\">\n",
       "  <thead>\n",
       "    <tr style=\"text-align: right;\">\n",
       "      <th></th>\n",
       "      <th>price_mln</th>\n",
       "    </tr>\n",
       "    <tr>\n",
       "      <th>floor_first_last</th>\n",
       "      <th></th>\n",
       "    </tr>\n",
       "  </thead>\n",
       "  <tbody>\n",
       "    <tr>\n",
       "      <td>первый</td>\n",
       "      <td>3.9000</td>\n",
       "    </tr>\n",
       "    <tr>\n",
       "      <td>последний</td>\n",
       "      <td>4.3000</td>\n",
       "    </tr>\n",
       "    <tr>\n",
       "      <td>другой</td>\n",
       "      <td>4.8465</td>\n",
       "    </tr>\n",
       "  </tbody>\n",
       "</table>\n",
       "</div>"
      ],
      "text/plain": [
       "                  price_mln\n",
       "floor_first_last           \n",
       "первый               3.9000\n",
       "последний            4.3000\n",
       "другой               4.8465"
      ]
     },
     "execution_count": 54,
     "metadata": {},
     "output_type": "execute_result"
    }
   ],
   "source": [
    "floor.sort_values(by='price_mln')"
   ]
  },
  {
   "cell_type": "code",
   "execution_count": 55,
   "metadata": {},
   "outputs": [
    {
     "data": {
      "text/plain": [
       "<matplotlib.axes._subplots.AxesSubplot at 0x119e46f50>"
      ]
     },
     "execution_count": 55,
     "metadata": {},
     "output_type": "execute_result"
    },
    {
     "data": {
      "image/png": "[encoded data removed]",
      "text/plain": [
       "<Figure size 432x288 with 1 Axes>"
      ]
     },
     "metadata": {
      "needs_background": "light"
     },
     "output_type": "display_data"
    }
   ],
   "source": [
    "floor.plot(kind='bar')"
   ]
  },
  {
   "cell_type": "markdown",
   "metadata": {},
   "source": [
    "Как видно из сводной таблицы, действительно есть взаимосвязь между ценой квартиры и этажом. Квартиры на первом этаже в среднем на 900 тысяч рублей дешевле, чем другие, а квартиры на последнем этаже в среднем дешевле почти на 600 тысяч."
   ]
  },
  {
   "cell_type": "markdown",
   "metadata": {},
   "source": [
    "в) Зависимость цены от **даты размещения**: дня недели, месяца и года.\n",
    "\n",
    "Выделим столбцы 'last_price', 'weekday', 'month', 'year' в отдельную таблицу и снова построим матрицу диаграмм рассеяния."
   ]
  },
  {
   "cell_type": "code",
   "execution_count": 56,
   "metadata": {},
   "outputs": [
    {
     "data": {
      "text/html": [
       "<div>\n",
       "<style scoped>\n",
       "    .dataframe tbody tr th:only-of-type {\n",
       "        vertical-align: middle;\n",
       "    }\n",
       "\n",
       "    .dataframe tbody tr th {\n",
       "        vertical-align: top;\n",
       "    }\n",
       "\n",
       "    .dataframe thead th {\n",
       "        text-align: right;\n",
       "    }\n",
       "</style>\n",
       "<table border=\"1\" class=\"dataframe\">\n",
       "  <thead>\n",
       "    <tr style=\"text-align: right;\">\n",
       "      <th></th>\n",
       "      <th>last_price</th>\n",
       "      <th>weekday</th>\n",
       "      <th>month</th>\n",
       "      <th>year</th>\n",
       "    </tr>\n",
       "  </thead>\n",
       "  <tbody>\n",
       "    <tr>\n",
       "      <td>0</td>\n",
       "      <td>13000000.0</td>\n",
       "      <td>3</td>\n",
       "      <td>3</td>\n",
       "      <td>2019</td>\n",
       "    </tr>\n",
       "    <tr>\n",
       "      <td>1</td>\n",
       "      <td>3350000.0</td>\n",
       "      <td>1</td>\n",
       "      <td>12</td>\n",
       "      <td>2018</td>\n",
       "    </tr>\n",
       "    <tr>\n",
       "      <td>2</td>\n",
       "      <td>5196000.0</td>\n",
       "      <td>3</td>\n",
       "      <td>8</td>\n",
       "      <td>2015</td>\n",
       "    </tr>\n",
       "    <tr>\n",
       "      <td>3</td>\n",
       "      <td>64900000.0</td>\n",
       "      <td>4</td>\n",
       "      <td>7</td>\n",
       "      <td>2015</td>\n",
       "    </tr>\n",
       "    <tr>\n",
       "      <td>4</td>\n",
       "      <td>10000000.0</td>\n",
       "      <td>1</td>\n",
       "      <td>6</td>\n",
       "      <td>2018</td>\n",
       "    </tr>\n",
       "  </tbody>\n",
       "</table>\n",
       "</div>"
      ],
      "text/plain": [
       "   last_price  weekday  month  year\n",
       "0  13000000.0        3      3  2019\n",
       "1   3350000.0        1     12  2018\n",
       "2   5196000.0        3      8  2015\n",
       "3  64900000.0        4      7  2015\n",
       "4  10000000.0        1      6  2018"
      ]
     },
     "execution_count": 56,
     "metadata": {},
     "output_type": "execute_result"
    }
   ],
   "source": [
    "date_price = df[['last_price', 'weekday', 'month', 'year']]\n",
    "date_price.head()"
   ]
  },
  {
   "cell_type": "code",
   "execution_count": 57,
   "metadata": {},
   "outputs": [
    {
     "data": {
      "text/plain": [
       "array([[<matplotlib.axes._subplots.AxesSubplot object at 0x11a319410>,\n",
       "        <matplotlib.axes._subplots.AxesSubplot object at 0x119ec4590>,\n",
       "        <matplotlib.axes._subplots.AxesSubplot object at 0x11a1ef4d0>,\n",
       "        <matplotlib.axes._subplots.AxesSubplot object at 0x11a223cd0>],\n",
       "       [<matplotlib.axes._subplots.AxesSubplot object at 0x11a4e1510>,\n",
       "        <matplotlib.axes._subplots.AxesSubplot object at 0x11a514d10>,\n",
       "        <matplotlib.axes._subplots.AxesSubplot object at 0x11a557550>,\n",
       "        <matplotlib.axes._subplots.AxesSubplot object at 0x11a58bd50>],\n",
       "       [<matplotlib.axes._subplots.AxesSubplot object at 0x11a5959d0>,\n",
       "        <matplotlib.axes._subplots.AxesSubplot object at 0x11a5d8390>,\n",
       "        <matplotlib.axes._subplots.AxesSubplot object at 0x11a6445d0>,\n",
       "        <matplotlib.axes._subplots.AxesSubplot object at 0x11a676dd0>],\n",
       "       [<matplotlib.axes._subplots.AxesSubplot object at 0x11a6b8610>,\n",
       "        <matplotlib.axes._subplots.AxesSubplot object at 0x11a6ebe10>,\n",
       "        <matplotlib.axes._subplots.AxesSubplot object at 0x11a72d650>,\n",
       "        <matplotlib.axes._subplots.AxesSubplot object at 0x11a760e50>]],\n",
       "      dtype=object)"
      ]
     },
     "execution_count": 57,
     "metadata": {},
     "output_type": "execute_result"
    },
    {
     "data": {
      "image/png": "[encoded data removed]",
      "text/plain": [
       "<Figure size 1080x1080 with 16 Axes>"
      ]
     },
     "metadata": {
      "needs_background": "light"
     },
     "output_type": "display_data"
    }
   ],
   "source": [
    "pd.plotting.scatter_matrix(date_price, figsize=(15, 15))"
   ]
  },
  {
   "cell_type": "code",
   "execution_count": 58,
   "metadata": {},
   "outputs": [
    {
     "data": {
      "text/html": [
       "<div>\n",
       "<style scoped>\n",
       "    .dataframe tbody tr th:only-of-type {\n",
       "        vertical-align: middle;\n",
       "    }\n",
       "\n",
       "    .dataframe tbody tr th {\n",
       "        vertical-align: top;\n",
       "    }\n",
       "\n",
       "    .dataframe thead th {\n",
       "        text-align: right;\n",
       "    }\n",
       "</style>\n",
       "<table border=\"1\" class=\"dataframe\">\n",
       "  <thead>\n",
       "    <tr style=\"text-align: right;\">\n",
       "      <th></th>\n",
       "      <th>last_price</th>\n",
       "      <th>weekday</th>\n",
       "      <th>month</th>\n",
       "      <th>year</th>\n",
       "    </tr>\n",
       "  </thead>\n",
       "  <tbody>\n",
       "    <tr>\n",
       "      <td>last_price</td>\n",
       "      <td>1.000000</td>\n",
       "      <td>0.000795</td>\n",
       "      <td>0.003359</td>\n",
       "      <td>-0.041884</td>\n",
       "    </tr>\n",
       "    <tr>\n",
       "      <td>weekday</td>\n",
       "      <td>0.000795</td>\n",
       "      <td>1.000000</td>\n",
       "      <td>0.012522</td>\n",
       "      <td>-0.002377</td>\n",
       "    </tr>\n",
       "    <tr>\n",
       "      <td>month</td>\n",
       "      <td>0.003359</td>\n",
       "      <td>0.012522</td>\n",
       "      <td>1.000000</td>\n",
       "      <td>-0.270909</td>\n",
       "    </tr>\n",
       "    <tr>\n",
       "      <td>year</td>\n",
       "      <td>-0.041884</td>\n",
       "      <td>-0.002377</td>\n",
       "      <td>-0.270909</td>\n",
       "      <td>1.000000</td>\n",
       "    </tr>\n",
       "  </tbody>\n",
       "</table>\n",
       "</div>"
      ],
      "text/plain": [
       "            last_price   weekday     month      year\n",
       "last_price    1.000000  0.000795  0.003359 -0.041884\n",
       "weekday       0.000795  1.000000  0.012522 -0.002377\n",
       "month         0.003359  0.012522  1.000000 -0.270909\n",
       "year         -0.041884 -0.002377 -0.270909  1.000000"
      ]
     },
     "execution_count": 58,
     "metadata": {},
     "output_type": "execute_result"
    }
   ],
   "source": [
    "date_price.corr()"
   ]
  },
  {
   "cell_type": "markdown",
   "metadata": {},
   "source": [
    "Линейных зависимостей здесь нет, лучше построим столбчатые диаграммы."
   ]
  },
  {
   "cell_type": "code",
   "execution_count": 59,
   "metadata": {},
   "outputs": [
    {
     "name": "stdout",
     "output_type": "stream",
     "text": [
      "         last_price\n",
      "weekday            \n",
      "0         4650000.0\n",
      "1         4700000.0\n",
      "2         4700000.0\n",
      "3         4650000.0\n",
      "4         4550000.0\n",
      "5         4550000.0\n",
      "6         4550000.0\n"
     ]
    },
    {
     "data": {
      "text/plain": [
       "<matplotlib.axes._subplots.AxesSubplot at 0x11ae5c810>"
      ]
     },
     "execution_count": 59,
     "metadata": {},
     "output_type": "execute_result"
    },
    {
     "data": {
      "image/png": "[encoded data removed]",
      "text/plain": [
       "<Figure size 720x360 with 1 Axes>"
      ]
     },
     "metadata": {
      "needs_background": "light"
     },
     "output_type": "display_data"
    }
   ],
   "source": [
    "weekday_pivot = date_price.pivot_table(index='weekday', values='last_price', aggfunc='median')\n",
    "print(weekday_pivot)\n",
    "\n",
    "weekday_pivot.plot(kind='bar', figsize=(10,5), grid=True)"
   ]
  },
  {
   "cell_type": "markdown",
   "metadata": {},
   "source": [
    "В среднем, цены ниже в объявлениях, размещенных в конце недели (пт-вс)."
   ]
  },
  {
   "cell_type": "code",
   "execution_count": 60,
   "metadata": {
    "scrolled": true
   },
   "outputs": [
    {
     "name": "stdout",
     "output_type": "stream",
     "text": [
      "       last_price\n",
      "month            \n",
      "1       4600000.0\n",
      "2       4650000.0\n",
      "3       4650000.0\n",
      "4       4800000.0\n",
      "5       4500000.0\n",
      "6       4400000.0\n",
      "7       4600000.0\n",
      "8       4570000.0\n",
      "9       4700000.0\n",
      "10      4570000.0\n",
      "11      4700000.0\n",
      "12      4700000.0\n"
     ]
    },
    {
     "data": {
      "text/plain": [
       "<matplotlib.axes._subplots.AxesSubplot at 0x11b2def90>"
      ]
     },
     "execution_count": 60,
     "metadata": {},
     "output_type": "execute_result"
    },
    {
     "data": {
      "image/png": "[encoded data removed]",
      "text/plain": [
       "<Figure size 720x360 with 1 Axes>"
      ]
     },
     "metadata": {
      "needs_background": "light"
     },
     "output_type": "display_data"
    }
   ],
   "source": [
    "month_pivot = date_price.pivot_table(index='month', values='last_price', aggfunc='median')\n",
    "print(month_pivot)\n",
    "\n",
    "month_pivot.plot(kind='bar', figsize=(10,5), grid=True)"
   ]
  },
  {
   "cell_type": "markdown",
   "metadata": {},
   "source": [
    "Здесь нет четкой тенденции, но можно увидеть, что самые высокие цены приходятся на апрель, а самые низкие - на июнь."
   ]
  },
  {
   "cell_type": "code",
   "execution_count": 61,
   "metadata": {
    "scrolled": true
   },
   "outputs": [
    {
     "name": "stdout",
     "output_type": "stream",
     "text": [
      "      last_price\n",
      "year            \n",
      "2014   7700000.0\n",
      "2015   5300500.0\n",
      "2016   4500000.0\n",
      "2017   4500000.0\n",
      "2018   4575000.0\n",
      "2019   5050000.0\n"
     ]
    },
    {
     "data": {
      "text/plain": [
       "<matplotlib.axes._subplots.AxesSubplot at 0x11b2bbf90>"
      ]
     },
     "execution_count": 61,
     "metadata": {},
     "output_type": "execute_result"
    },
    {
     "data": {
      "image/png": "[encoded data removed]",
      "text/plain": [
       "<Figure size 720x360 with 1 Axes>"
      ]
     },
     "metadata": {
      "needs_background": "light"
     },
     "output_type": "display_data"
    }
   ],
   "source": [
    "year_pivot = date_price.pivot_table(index='year', values='last_price', aggfunc='median')\n",
    "print(year_pivot)\n",
    "\n",
    "year_pivot.plot(kind='bar', figsize=(10,5), grid=True)"
   ]
  },
  {
   "cell_type": "markdown",
   "metadata": {},
   "source": [
    "Наблюдается падение цен с 2015 года, но к 2019 цены на недвижимость снова начали расти."
   ]
  },
  {
   "cell_type": "markdown",
   "metadata": {},
   "source": [
    "**Вывод**\n",
    "\n",
    "Мы выяснили, что для большинства объявлений существует зависимость цены зависит от площади, этажа и даже от даты размещения: дня недели, месяца и года. Дороже стоят квартиры:\n",
    "- с большей площадью\n",
    "- расположенные не на первом или последнем этаже\n",
    "- объявление размещено в будни\n",
    "- объявление размещено не в 2016-2018 гг, т.к. на это время пришлось падение цен на недвижимость.\n",
    "\n",
    "Зависимость цены от числа комнат, удалённости от центра не выявлена: либо ее нет, либо она носит не линейный характер."
   ]
  },
  {
   "cell_type": "markdown",
   "metadata": {},
   "source": [
    "### Средняя цена по 10 населенным пунктам\n",
    "\n",
    "Выберите 10 населённых пунктов с наибольшим числом объявлений. Посчитайте среднюю цену квадратного метра в этих населённых пунктах. Выделите среди них населённые пункты с самой высокой и низкой стоимостью жилья. Эти данные можно найти по имени в столбце 'locality_name'."
   ]
  },
  {
   "cell_type": "code",
   "execution_count": 62,
   "metadata": {},
   "outputs": [
    {
     "data": {
      "text/html": [
       "<div>\n",
       "<style scoped>\n",
       "    .dataframe tbody tr th:only-of-type {\n",
       "        vertical-align: middle;\n",
       "    }\n",
       "\n",
       "    .dataframe tbody tr th {\n",
       "        vertical-align: top;\n",
       "    }\n",
       "\n",
       "    .dataframe thead tr th {\n",
       "        text-align: left;\n",
       "    }\n",
       "\n",
       "    .dataframe thead tr:last-of-type th {\n",
       "        text-align: right;\n",
       "    }\n",
       "</style>\n",
       "<table border=\"1\" class=\"dataframe\">\n",
       "  <thead>\n",
       "    <tr>\n",
       "      <th></th>\n",
       "      <th>count</th>\n",
       "      <th>mean</th>\n",
       "    </tr>\n",
       "    <tr>\n",
       "      <th></th>\n",
       "      <th>price_sq_meter</th>\n",
       "      <th>price_sq_meter</th>\n",
       "    </tr>\n",
       "    <tr>\n",
       "      <th>locality_name</th>\n",
       "      <th></th>\n",
       "      <th></th>\n",
       "    </tr>\n",
       "  </thead>\n",
       "  <tbody>\n",
       "    <tr>\n",
       "      <td>Бокситогорск</td>\n",
       "      <td>16</td>\n",
       "      <td>17551.591819</td>\n",
       "    </tr>\n",
       "    <tr>\n",
       "      <td>Волосово</td>\n",
       "      <td>36</td>\n",
       "      <td>40183.325974</td>\n",
       "    </tr>\n",
       "    <tr>\n",
       "      <td>Волхов</td>\n",
       "      <td>110</td>\n",
       "      <td>35055.143633</td>\n",
       "    </tr>\n",
       "    <tr>\n",
       "      <td>Всеволожск</td>\n",
       "      <td>395</td>\n",
       "      <td>68683.623418</td>\n",
       "    </tr>\n",
       "    <tr>\n",
       "      <td>Выборг</td>\n",
       "      <td>236</td>\n",
       "      <td>58154.339559</td>\n",
       "    </tr>\n",
       "  </tbody>\n",
       "</table>\n",
       "</div>"
      ],
      "text/plain": [
       "                       count           mean\n",
       "              price_sq_meter price_sq_meter\n",
       "locality_name                              \n",
       "Бокситогорск              16   17551.591819\n",
       "Волосово                  36   40183.325974\n",
       "Волхов                   110   35055.143633\n",
       "Всеволожск               395   68683.623418\n",
       "Выборг                   236   58154.339559"
      ]
     },
     "execution_count": 62,
     "metadata": {},
     "output_type": "execute_result"
    }
   ],
   "source": [
    "popular_localities = df.pivot_table(index='locality_name', \n",
    "               values='price_sq_meter', \n",
    "               aggfunc=['count','mean'])\n",
    "\n",
    "popular_localities.head()"
   ]
  },
  {
   "cell_type": "markdown",
   "metadata": {},
   "source": [
    "Круто. Теперь избавимся от мультииндексов и отсортируем таблицу по количеству объявлений. Оставим только верхние 10 строк."
   ]
  },
  {
   "cell_type": "code",
   "execution_count": 63,
   "metadata": {},
   "outputs": [
    {
     "data": {
      "text/html": [
       "<div>\n",
       "<style scoped>\n",
       "    .dataframe tbody tr th:only-of-type {\n",
       "        vertical-align: middle;\n",
       "    }\n",
       "\n",
       "    .dataframe tbody tr th {\n",
       "        vertical-align: top;\n",
       "    }\n",
       "\n",
       "    .dataframe thead th {\n",
       "        text-align: right;\n",
       "    }\n",
       "</style>\n",
       "<table border=\"1\" class=\"dataframe\">\n",
       "  <thead>\n",
       "    <tr style=\"text-align: right;\">\n",
       "      <th></th>\n",
       "      <th>locality_name</th>\n",
       "      <th>count_of_ad</th>\n",
       "      <th>price_sq_meter</th>\n",
       "    </tr>\n",
       "  </thead>\n",
       "  <tbody>\n",
       "    <tr>\n",
       "      <td>33</td>\n",
       "      <td>Санкт-Петербург</td>\n",
       "      <td>15545</td>\n",
       "      <td>114650.427069</td>\n",
       "    </tr>\n",
       "    <tr>\n",
       "      <td>290</td>\n",
       "      <td>посёлок Мурино</td>\n",
       "      <td>514</td>\n",
       "      <td>85563.182760</td>\n",
       "    </tr>\n",
       "    <tr>\n",
       "      <td>325</td>\n",
       "      <td>посёлок Шушары</td>\n",
       "      <td>437</td>\n",
       "      <td>78554.913659</td>\n",
       "    </tr>\n",
       "    <tr>\n",
       "      <td>3</td>\n",
       "      <td>Всеволожск</td>\n",
       "      <td>395</td>\n",
       "      <td>68683.623418</td>\n",
       "    </tr>\n",
       "    <tr>\n",
       "      <td>32</td>\n",
       "      <td>Пушкин</td>\n",
       "      <td>367</td>\n",
       "      <td>103207.135335</td>\n",
       "    </tr>\n",
       "    <tr>\n",
       "      <td>13</td>\n",
       "      <td>Колпино</td>\n",
       "      <td>338</td>\n",
       "      <td>75424.579098</td>\n",
       "    </tr>\n",
       "    <tr>\n",
       "      <td>295</td>\n",
       "      <td>посёлок Парголово</td>\n",
       "      <td>327</td>\n",
       "      <td>90175.913458</td>\n",
       "    </tr>\n",
       "    <tr>\n",
       "      <td>6</td>\n",
       "      <td>Гатчина</td>\n",
       "      <td>305</td>\n",
       "      <td>68947.384358</td>\n",
       "    </tr>\n",
       "    <tr>\n",
       "      <td>93</td>\n",
       "      <td>деревня Кудрово</td>\n",
       "      <td>299</td>\n",
       "      <td>92473.547576</td>\n",
       "    </tr>\n",
       "    <tr>\n",
       "      <td>4</td>\n",
       "      <td>Выборг</td>\n",
       "      <td>236</td>\n",
       "      <td>58154.339559</td>\n",
       "    </tr>\n",
       "  </tbody>\n",
       "</table>\n",
       "</div>"
      ],
      "text/plain": [
       "         locality_name  count_of_ad  price_sq_meter\n",
       "33     Санкт-Петербург        15545   114650.427069\n",
       "290     посёлок Мурино          514    85563.182760\n",
       "325     посёлок Шушары          437    78554.913659\n",
       "3           Всеволожск          395    68683.623418\n",
       "32              Пушкин          367   103207.135335\n",
       "13             Колпино          338    75424.579098\n",
       "295  посёлок Парголово          327    90175.913458\n",
       "6              Гатчина          305    68947.384358\n",
       "93     деревня Кудрово          299    92473.547576\n",
       "4               Выборг          236    58154.339559"
      ]
     },
     "execution_count": 63,
     "metadata": {},
     "output_type": "execute_result"
    }
   ],
   "source": [
    "popular_localities.reset_index(inplace=True)\n",
    "\n",
    "popular_localities.columns = ['locality_name', 'count_of_ad', 'price_sq_meter']\n",
    "\n",
    "#Сортируем по убыванию и оставляем только 10 верхних строк в таблице\n",
    "popular_localities = popular_localities.sort_values(by='count_of_ad', ascending=False)[:10]\n",
    "popular_localities"
   ]
  },
  {
   "cell_type": "markdown",
   "metadata": {},
   "source": [
    "А теперь получившуюся таблицу по топ-10 населенным пунктам отсортируем по цене за квадратный метр."
   ]
  },
  {
   "cell_type": "code",
   "execution_count": 64,
   "metadata": {},
   "outputs": [
    {
     "data": {
      "text/html": [
       "<div>\n",
       "<style scoped>\n",
       "    .dataframe tbody tr th:only-of-type {\n",
       "        vertical-align: middle;\n",
       "    }\n",
       "\n",
       "    .dataframe tbody tr th {\n",
       "        vertical-align: top;\n",
       "    }\n",
       "\n",
       "    .dataframe thead th {\n",
       "        text-align: right;\n",
       "    }\n",
       "</style>\n",
       "<table border=\"1\" class=\"dataframe\">\n",
       "  <thead>\n",
       "    <tr style=\"text-align: right;\">\n",
       "      <th></th>\n",
       "      <th>locality_name</th>\n",
       "      <th>count_of_ad</th>\n",
       "      <th>price_sq_meter</th>\n",
       "    </tr>\n",
       "  </thead>\n",
       "  <tbody>\n",
       "    <tr>\n",
       "      <td>33</td>\n",
       "      <td>Санкт-Петербург</td>\n",
       "      <td>15545</td>\n",
       "      <td>114650.427069</td>\n",
       "    </tr>\n",
       "    <tr>\n",
       "      <td>32</td>\n",
       "      <td>Пушкин</td>\n",
       "      <td>367</td>\n",
       "      <td>103207.135335</td>\n",
       "    </tr>\n",
       "    <tr>\n",
       "      <td>93</td>\n",
       "      <td>деревня Кудрово</td>\n",
       "      <td>299</td>\n",
       "      <td>92473.547576</td>\n",
       "    </tr>\n",
       "    <tr>\n",
       "      <td>295</td>\n",
       "      <td>посёлок Парголово</td>\n",
       "      <td>327</td>\n",
       "      <td>90175.913458</td>\n",
       "    </tr>\n",
       "    <tr>\n",
       "      <td>290</td>\n",
       "      <td>посёлок Мурино</td>\n",
       "      <td>514</td>\n",
       "      <td>85563.182760</td>\n",
       "    </tr>\n",
       "    <tr>\n",
       "      <td>325</td>\n",
       "      <td>посёлок Шушары</td>\n",
       "      <td>437</td>\n",
       "      <td>78554.913659</td>\n",
       "    </tr>\n",
       "    <tr>\n",
       "      <td>13</td>\n",
       "      <td>Колпино</td>\n",
       "      <td>338</td>\n",
       "      <td>75424.579098</td>\n",
       "    </tr>\n",
       "    <tr>\n",
       "      <td>6</td>\n",
       "      <td>Гатчина</td>\n",
       "      <td>305</td>\n",
       "      <td>68947.384358</td>\n",
       "    </tr>\n",
       "    <tr>\n",
       "      <td>3</td>\n",
       "      <td>Всеволожск</td>\n",
       "      <td>395</td>\n",
       "      <td>68683.623418</td>\n",
       "    </tr>\n",
       "    <tr>\n",
       "      <td>4</td>\n",
       "      <td>Выборг</td>\n",
       "      <td>236</td>\n",
       "      <td>58154.339559</td>\n",
       "    </tr>\n",
       "  </tbody>\n",
       "</table>\n",
       "</div>"
      ],
      "text/plain": [
       "         locality_name  count_of_ad  price_sq_meter\n",
       "33     Санкт-Петербург        15545   114650.427069\n",
       "32              Пушкин          367   103207.135335\n",
       "93     деревня Кудрово          299    92473.547576\n",
       "295  посёлок Парголово          327    90175.913458\n",
       "290     посёлок Мурино          514    85563.182760\n",
       "325     посёлок Шушары          437    78554.913659\n",
       "13             Колпино          338    75424.579098\n",
       "6              Гатчина          305    68947.384358\n",
       "3           Всеволожск          395    68683.623418\n",
       "4               Выборг          236    58154.339559"
      ]
     },
     "execution_count": 64,
     "metadata": {},
     "output_type": "execute_result"
    }
   ],
   "source": [
    "popular_localities.sort_values(by='price_sq_meter', ascending=False)"
   ]
  },
  {
   "cell_type": "markdown",
   "metadata": {},
   "source": [
    "**Вывод**\n",
    "\n",
    "Как видно из сводной таблицы, дороже всего квартиры в Санкт-Петербурге: в среднем 114,8 тысяч рублей за квадратный метр.\n",
    "На втором месте Пушкин: 103 тыс. рублей за квадратный метр.\n",
    "\n",
    "А самые недорогие квартиры в Выборге: всего 58 тыс.рублей за метр, что почти вдвое дешевле, чем в СПб."
   ]
  },
  {
   "cell_type": "markdown",
   "metadata": {},
   "source": [
    "### Квартиры в центре Санкт-Петербурга\n",
    "\n",
    "\n",
    "- Первая задача — выяснить, какая область входит в центр. \n",
    "\n",
    "Выделим только квартиры в Санкт-Петербурге. Создадим столбец с расстоянием до центра в километра и для удобства округлим до целых значений. "
   ]
  },
  {
   "cell_type": "code",
   "execution_count": 65,
   "metadata": {},
   "outputs": [],
   "source": [
    "#Выделим новый датафрейм только с квартирами в СПб\n",
    "spb = df.query('locality_name == \"Санкт-Петербург\"').copy()\n",
    "\n",
    "#Добавляем столбец с расстоянием до центра в км\n",
    "spb['km_to_center'] = (spb['cityCenters_nearest'] / 1000).astype('int')\n",
    "\n",
    "#Для удобства, оставим только столбцы, необходимые для расчетов\n",
    "spb_prices = spb[['km_to_center', 'last_price']]\n",
    "spb_prices.reset_index(drop=True, inplace=True)"
   ]
  },
  {
   "cell_type": "markdown",
   "metadata": {},
   "source": [
    "Посчитаем среднюю цену для каждого километра в сводной таблице. "
   ]
  },
  {
   "cell_type": "code",
   "execution_count": 66,
   "metadata": {},
   "outputs": [
    {
     "data": {
      "text/html": [
       "<div>\n",
       "<style scoped>\n",
       "    .dataframe tbody tr th:only-of-type {\n",
       "        vertical-align: middle;\n",
       "    }\n",
       "\n",
       "    .dataframe tbody tr th {\n",
       "        vertical-align: top;\n",
       "    }\n",
       "\n",
       "    .dataframe thead th {\n",
       "        text-align: right;\n",
       "    }\n",
       "</style>\n",
       "<table border=\"1\" class=\"dataframe\">\n",
       "  <thead>\n",
       "    <tr style=\"text-align: right;\">\n",
       "      <th></th>\n",
       "      <th>last_price</th>\n",
       "    </tr>\n",
       "    <tr>\n",
       "      <th>km_to_center</th>\n",
       "      <th></th>\n",
       "    </tr>\n",
       "  </thead>\n",
       "  <tbody>\n",
       "    <tr>\n",
       "      <td>0</td>\n",
       "      <td>2.368987e+07</td>\n",
       "    </tr>\n",
       "    <tr>\n",
       "      <td>1</td>\n",
       "      <td>1.901479e+07</td>\n",
       "    </tr>\n",
       "    <tr>\n",
       "      <td>2</td>\n",
       "      <td>1.624582e+07</td>\n",
       "    </tr>\n",
       "    <tr>\n",
       "      <td>3</td>\n",
       "      <td>1.348691e+07</td>\n",
       "    </tr>\n",
       "    <tr>\n",
       "      <td>4</td>\n",
       "      <td>1.346839e+07</td>\n",
       "    </tr>\n",
       "  </tbody>\n",
       "</table>\n",
       "</div>"
      ],
      "text/plain": [
       "                last_price\n",
       "km_to_center              \n",
       "0             2.368987e+07\n",
       "1             1.901479e+07\n",
       "2             1.624582e+07\n",
       "3             1.348691e+07\n",
       "4             1.346839e+07"
      ]
     },
     "execution_count": 66,
     "metadata": {},
     "output_type": "execute_result"
    }
   ],
   "source": [
    "spb_pivot = spb_prices.pivot_table(index='km_to_center', values='last_price')\n",
    "spb_pivot.head()"
   ]
  },
  {
   "cell_type": "markdown",
   "metadata": {},
   "source": [
    "Пока не очень наглядно из-за формата вывода цены. Для большей наглядности можно разделить среднюю цену на 1 млн. Запишем цену в млн в новом столбце."
   ]
  },
  {
   "cell_type": "code",
   "execution_count": 67,
   "metadata": {},
   "outputs": [],
   "source": [
    "spb_pivot['price_mln'] = spb_pivot['last_price'] / 1000000"
   ]
  },
  {
   "cell_type": "markdown",
   "metadata": {},
   "source": [
    "Построим график: он должен показывать, как цена зависит от удалённости от центра. Определим границу, где график сильно меняется — это и будет центральная зона."
   ]
  },
  {
   "cell_type": "code",
   "execution_count": 68,
   "metadata": {},
   "outputs": [
    {
     "data": {
      "text/plain": [
       "<matplotlib.axes._subplots.AxesSubplot at 0x11b1c2a10>"
      ]
     },
     "execution_count": 68,
     "metadata": {},
     "output_type": "execute_result"
    },
    {
     "data": {
      "image/png": "[encoded data removed]",
      "text/plain": [
       "<Figure size 1080x360 with 1 Axes>"
      ]
     },
     "metadata": {
      "needs_background": "light"
     },
     "output_type": "display_data"
    }
   ],
   "source": [
    "spb_pivot.plot(y='price_mln', \n",
    "               kind='bar', \n",
    "               grid=True, \n",
    "               legend=False, \n",
    "               title='Зависимость цены от удаленности от центра', \n",
    "               figsize=(15,5))"
   ]
  },
  {
   "cell_type": "markdown",
   "metadata": {},
   "source": [
    "Глядя на график, если сравнить значения 7го и 8го км, то можно сказать, что где-то между ними проходит условная \"психологическая\" отметка цены в 10 млн рублей. Поэтому будем считать, что граница центра Петербурга у нас очерчена радиусом 7 км.\n",
    "\n",
    "- Выделим сегмент квартир в центре в отдельный датафрейм и проанализируем эту территорию. Изучим следующие параметры: площадь, цена, число комнат, высота потолков. "
   ]
  },
  {
   "cell_type": "code",
   "execution_count": 69,
   "metadata": {},
   "outputs": [
    {
     "data": {
      "text/html": [
       "<div>\n",
       "<style scoped>\n",
       "    .dataframe tbody tr th:only-of-type {\n",
       "        vertical-align: middle;\n",
       "    }\n",
       "\n",
       "    .dataframe tbody tr th {\n",
       "        vertical-align: top;\n",
       "    }\n",
       "\n",
       "    .dataframe thead th {\n",
       "        text-align: right;\n",
       "    }\n",
       "</style>\n",
       "<table border=\"1\" class=\"dataframe\">\n",
       "  <thead>\n",
       "    <tr style=\"text-align: right;\">\n",
       "      <th></th>\n",
       "      <th>total_area</th>\n",
       "      <th>last_price</th>\n",
       "      <th>rooms</th>\n",
       "      <th>ceiling_height</th>\n",
       "    </tr>\n",
       "  </thead>\n",
       "  <tbody>\n",
       "    <tr>\n",
       "      <td>count</td>\n",
       "      <td>3662.000000</td>\n",
       "      <td>3.662000e+03</td>\n",
       "      <td>3662.000000</td>\n",
       "      <td>2381.000000</td>\n",
       "    </tr>\n",
       "    <tr>\n",
       "      <td>mean</td>\n",
       "      <td>91.801092</td>\n",
       "      <td>1.461530e+07</td>\n",
       "      <td>2.820590</td>\n",
       "      <td>3.079605</td>\n",
       "    </tr>\n",
       "    <tr>\n",
       "      <td>std</td>\n",
       "      <td>58.837593</td>\n",
       "      <td>2.462269e+07</td>\n",
       "      <td>1.453375</td>\n",
       "      <td>0.382043</td>\n",
       "    </tr>\n",
       "    <tr>\n",
       "      <td>min</td>\n",
       "      <td>17.000000</td>\n",
       "      <td>1.800000e+06</td>\n",
       "      <td>0.000000</td>\n",
       "      <td>2.000000</td>\n",
       "    </tr>\n",
       "    <tr>\n",
       "      <td>25%</td>\n",
       "      <td>56.000000</td>\n",
       "      <td>6.591500e+06</td>\n",
       "      <td>2.000000</td>\n",
       "      <td>2.800000</td>\n",
       "    </tr>\n",
       "    <tr>\n",
       "      <td>50%</td>\n",
       "      <td>77.700000</td>\n",
       "      <td>9.000000e+06</td>\n",
       "      <td>3.000000</td>\n",
       "      <td>3.000000</td>\n",
       "    </tr>\n",
       "    <tr>\n",
       "      <td>75%</td>\n",
       "      <td>108.400000</td>\n",
       "      <td>1.400000e+07</td>\n",
       "      <td>3.000000</td>\n",
       "      <td>3.270000</td>\n",
       "    </tr>\n",
       "    <tr>\n",
       "      <td>max</td>\n",
       "      <td>900.000000</td>\n",
       "      <td>7.630000e+08</td>\n",
       "      <td>19.000000</td>\n",
       "      <td>6.000000</td>\n",
       "    </tr>\n",
       "  </tbody>\n",
       "</table>\n",
       "</div>"
      ],
      "text/plain": [
       "        total_area    last_price        rooms  ceiling_height\n",
       "count  3662.000000  3.662000e+03  3662.000000     2381.000000\n",
       "mean     91.801092  1.461530e+07     2.820590        3.079605\n",
       "std      58.837593  2.462269e+07     1.453375        0.382043\n",
       "min      17.000000  1.800000e+06     0.000000        2.000000\n",
       "25%      56.000000  6.591500e+06     2.000000        2.800000\n",
       "50%      77.700000  9.000000e+06     3.000000        3.000000\n",
       "75%     108.400000  1.400000e+07     3.000000        3.270000\n",
       "max     900.000000  7.630000e+08    19.000000        6.000000"
      ]
     },
     "execution_count": 69,
     "metadata": {},
     "output_type": "execute_result"
    }
   ],
   "source": [
    "central = spb.query('km_to_center < 8')\n",
    "central[['total_area', 'last_price', 'rooms', 'ceiling_height']].describe()"
   ]
  },
  {
   "cell_type": "code",
   "execution_count": 70,
   "metadata": {},
   "outputs": [
    {
     "data": {
      "image/png": "[encoded data removed]",
      "text/plain": [
       "<Figure size 432x288 with 1 Axes>"
      ]
     },
     "metadata": {
      "needs_background": "light"
     },
     "output_type": "display_data"
    },
    {
     "data": {
      "image/png": "[encoded data removed]",
      "text/plain": [
       "<Figure size 432x288 with 1 Axes>"
      ]
     },
     "metadata": {
      "needs_background": "light"
     },
     "output_type": "display_data"
    },
    {
     "data": {
      "image/png": "[encoded data removed]",
      "text/plain": [
       "<Figure size 432x288 with 1 Axes>"
      ]
     },
     "metadata": {
      "needs_background": "light"
     },
     "output_type": "display_data"
    },
    {
     "data": {
      "image/png": "[encoded data removed]",
      "text/plain": [
       "<Figure size 432x288 with 1 Axes>"
      ]
     },
     "metadata": {
      "needs_background": "light"
     },
     "output_type": "display_data"
    }
   ],
   "source": [
    "import matplotlib.pyplot as plt\n",
    "for col in central[['total_area', 'price_mln', 'rooms', 'ceiling_height']]:\n",
    "    central[col].plot(title=col, kind='hist', bins=50)\n",
    "    plt.show()"
   ]
  },
  {
   "cell_type": "markdown",
   "metadata": {},
   "source": [
    "Распределения по площади, количеству комнат и высоте потолков очень похожи на те же значения по всему городу. А вот цены стоит рассмотреть поближе."
   ]
  },
  {
   "cell_type": "code",
   "execution_count": 71,
   "metadata": {},
   "outputs": [
    {
     "name": "stdout",
     "output_type": "stream",
     "text": [
      "Центр:\n",
      "count    3662.000000\n",
      "mean       14.615295\n",
      "std        24.622685\n",
      "min         1.800000\n",
      "25%         6.591500\n",
      "50%         9.000000\n",
      "75%        14.000000\n",
      "max       763.000000\n",
      "Name: price_mln, dtype: float64\n",
      "\n",
      "Все значения:\n",
      "count    23412.000000\n",
      "mean         6.515103\n",
      "std         10.837342\n",
      "min          0.012190\n",
      "25%          3.411750\n",
      "50%          4.650000\n",
      "75%          6.765044\n",
      "max        763.000000\n",
      "Name: price_mln, dtype: float64\n"
     ]
    },
    {
     "data": {
      "text/plain": [
       "<matplotlib.axes._subplots.AxesSubplot at 0x11c3a9cd0>"
      ]
     },
     "execution_count": 71,
     "metadata": {},
     "output_type": "execute_result"
    },
    {
     "data": {
      "image/png": "[encoded data removed]",
      "text/plain": [
       "<Figure size 1080x360 with 1 Axes>"
      ]
     },
     "metadata": {
      "needs_background": "light"
     },
     "output_type": "display_data"
    }
   ],
   "source": [
    "print('Центр:')\n",
    "print(central['price_mln'].describe())\n",
    "print()\n",
    "print('Все значения:')\n",
    "print(df['price_mln'].describe())\n",
    "\n",
    "ax = df.plot(kind='hist', \n",
    "             y='price_mln', \n",
    "             histtype='step', \n",
    "             range=(0, 80), \n",
    "             bins=50, \n",
    "             linewidth=5, \n",
    "             alpha=0.7, \n",
    "             label='по всему городу')\n",
    "central.plot(kind='hist', \n",
    "             y='price_mln', \n",
    "             histtype='step', \n",
    "             range=(0, 80), \n",
    "             bins=50, \n",
    "             linewidth=5, \n",
    "             alpha=0.7, \n",
    "             label='по центру СПб', \n",
    "             ax=ax, \n",
    "             grid=True, \n",
    "             legend=True,\n",
    "             figsize=(15,5))"
   ]
  },
  {
   "cell_type": "markdown",
   "metadata": {},
   "source": [
    "Как и стоило ожидать, цены в центре Санкт-Петербурга на порядок выше цен по всему городу. Так, средняя цена в центре равна 14,6 млн рублей, а по всему городу 6,5 млн. Минимальная цена по всему городу меньше 1 млн, а в центре самые дешевые квартиры стоят от 1,8 млн и выше. Также у гистограммы по центру длиннее \"хвост\", т.к. здесь находятся самые дорогие квартиры из всех.\n",
    "\n",
    "- Также выделим факторы, которые влияют на стоимость квартиры (число комнат, этаж, удалённость от центра, дата размещения объявления)."
   ]
  },
  {
   "cell_type": "code",
   "execution_count": 72,
   "metadata": {},
   "outputs": [
    {
     "data": {
      "text/html": [
       "<div>\n",
       "<style scoped>\n",
       "    .dataframe tbody tr th:only-of-type {\n",
       "        vertical-align: middle;\n",
       "    }\n",
       "\n",
       "    .dataframe tbody tr th {\n",
       "        vertical-align: top;\n",
       "    }\n",
       "\n",
       "    .dataframe thead th {\n",
       "        text-align: right;\n",
       "    }\n",
       "</style>\n",
       "<table border=\"1\" class=\"dataframe\">\n",
       "  <thead>\n",
       "    <tr style=\"text-align: right;\">\n",
       "      <th></th>\n",
       "      <th>last_price</th>\n",
       "      <th>rooms</th>\n",
       "      <th>km_to_center</th>\n",
       "      <th>weekday</th>\n",
       "      <th>month</th>\n",
       "      <th>year</th>\n",
       "    </tr>\n",
       "  </thead>\n",
       "  <tbody>\n",
       "    <tr>\n",
       "      <td>last_price</td>\n",
       "      <td>1.000000</td>\n",
       "      <td>0.336432</td>\n",
       "      <td>-0.057466</td>\n",
       "      <td>0.021175</td>\n",
       "      <td>-0.004313</td>\n",
       "      <td>-0.039862</td>\n",
       "    </tr>\n",
       "    <tr>\n",
       "      <td>rooms</td>\n",
       "      <td>0.336432</td>\n",
       "      <td>1.000000</td>\n",
       "      <td>-0.184666</td>\n",
       "      <td>-0.008456</td>\n",
       "      <td>-0.020623</td>\n",
       "      <td>-0.060291</td>\n",
       "    </tr>\n",
       "    <tr>\n",
       "      <td>km_to_center</td>\n",
       "      <td>-0.057466</td>\n",
       "      <td>-0.184666</td>\n",
       "      <td>1.000000</td>\n",
       "      <td>0.022366</td>\n",
       "      <td>0.004323</td>\n",
       "      <td>0.031617</td>\n",
       "    </tr>\n",
       "    <tr>\n",
       "      <td>weekday</td>\n",
       "      <td>0.021175</td>\n",
       "      <td>-0.008456</td>\n",
       "      <td>0.022366</td>\n",
       "      <td>1.000000</td>\n",
       "      <td>0.026684</td>\n",
       "      <td>0.001104</td>\n",
       "    </tr>\n",
       "    <tr>\n",
       "      <td>month</td>\n",
       "      <td>-0.004313</td>\n",
       "      <td>-0.020623</td>\n",
       "      <td>0.004323</td>\n",
       "      <td>0.026684</td>\n",
       "      <td>1.000000</td>\n",
       "      <td>-0.240471</td>\n",
       "    </tr>\n",
       "    <tr>\n",
       "      <td>year</td>\n",
       "      <td>-0.039862</td>\n",
       "      <td>-0.060291</td>\n",
       "      <td>0.031617</td>\n",
       "      <td>0.001104</td>\n",
       "      <td>-0.240471</td>\n",
       "      <td>1.000000</td>\n",
       "    </tr>\n",
       "  </tbody>\n",
       "</table>\n",
       "</div>"
      ],
      "text/plain": [
       "              last_price     rooms  km_to_center   weekday     month      year\n",
       "last_price      1.000000  0.336432     -0.057466  0.021175 -0.004313 -0.039862\n",
       "rooms           0.336432  1.000000     -0.184666 -0.008456 -0.020623 -0.060291\n",
       "km_to_center   -0.057466 -0.184666      1.000000  0.022366  0.004323  0.031617\n",
       "weekday         0.021175 -0.008456      0.022366  1.000000  0.026684  0.001104\n",
       "month          -0.004313 -0.020623      0.004323  0.026684  1.000000 -0.240471\n",
       "year           -0.039862 -0.060291      0.031617  0.001104 -0.240471  1.000000"
      ]
     },
     "execution_count": 72,
     "metadata": {},
     "output_type": "execute_result"
    }
   ],
   "source": [
    "central[['last_price', 'rooms', 'floor_first_last','km_to_center', 'weekday', 'month', 'year']].corr()"
   ]
  },
  {
   "cell_type": "markdown",
   "metadata": {},
   "source": [
    "Ни по одному из показателей не наблюдается сильной корреляции с ценой. Значит взаимосвязи или нет, или она не линейная. Построим столбчатые диаграммы и посмотрим, похожи ли взаимосвязи на те, что мы видели на всей совокупности наблюдений ранее."
   ]
  },
  {
   "cell_type": "code",
   "execution_count": 73,
   "metadata": {},
   "outputs": [
    {
     "data": {
      "text/plain": [
       "<matplotlib.axes._subplots.AxesSubplot at 0x11c824ad0>"
      ]
     },
     "execution_count": 73,
     "metadata": {},
     "output_type": "execute_result"
    },
    {
     "data": {
      "image/png": "[encoded data removed]",
      "text/plain": [
       "<Figure size 1080x360 with 1 Axes>"
      ]
     },
     "metadata": {
      "needs_background": "light"
     },
     "output_type": "display_data"
    }
   ],
   "source": [
    "central.pivot_table(index='rooms', values='price_mln').plot(y='price_mln', \n",
    "                                                            kind='bar', \n",
    "                                                            grid=True, \n",
    "                                                            legend=False, \n",
    "                                                            title='Зависимость цены от количества комнат', \n",
    "                                                            figsize=(15,5))"
   ]
  },
  {
   "cell_type": "markdown",
   "metadata": {},
   "source": [
    "Здесь в целом можно сказать, что чем больше комнат, тем дороже (тем больше площадь квартиры). Есть небольшой выброс на 12-комнатной квартире, но здесь скорее всего, повлияли и другие факторы."
   ]
  },
  {
   "cell_type": "code",
   "execution_count": 74,
   "metadata": {},
   "outputs": [
    {
     "data": {
      "text/plain": [
       "<matplotlib.axes._subplots.AxesSubplot at 0x11c89ad50>"
      ]
     },
     "execution_count": 74,
     "metadata": {},
     "output_type": "execute_result"
    },
    {
     "data": {
      "image/png": "[encoded data removed]",
      "text/plain": [
       "<Figure size 1080x360 with 1 Axes>"
      ]
     },
     "metadata": {
      "needs_background": "light"
     },
     "output_type": "display_data"
    }
   ],
   "source": [
    "central.pivot_table(index='floor_first_last', values='price_mln').plot(y='price_mln', \n",
    "                                                                    kind='bar', \n",
    "                                                                    grid=True, \n",
    "                                                                    legend=False, \n",
    "                                                                    title='Зависимость цены от этажа', \n",
    "                                                                    figsize=(15,5))"
   ]
  },
  {
   "cell_type": "markdown",
   "metadata": {},
   "source": [
    "Здесь снова подтверждается, что цена сильно зависит от этажа. В отличие от остальных районов, в центре Санкт-Петербурга самыми дорогими являются квартиры на последнем этаже (крыши! вид!). Самые дешевые квартиры, как и везде - на первом этаже."
   ]
  },
  {
   "cell_type": "code",
   "execution_count": 75,
   "metadata": {},
   "outputs": [
    {
     "data": {
      "text/plain": [
       "<matplotlib.axes._subplots.AxesSubplot at 0x11ca4fed0>"
      ]
     },
     "execution_count": 75,
     "metadata": {},
     "output_type": "execute_result"
    },
    {
     "data": {
      "image/png": "[encoded data removed]",
      "text/plain": [
       "<Figure size 1080x360 with 1 Axes>"
      ]
     },
     "metadata": {
      "needs_background": "light"
     },
     "output_type": "display_data"
    }
   ],
   "source": [
    "central.pivot_table(index='km_to_center', values='price_mln').plot(y='price_mln', \n",
    "                                                                    kind='bar', \n",
    "                                                                    grid=True, \n",
    "                                                                    legend=False, \n",
    "                                                                    title='Зависимость цены от удаленности от центра', \n",
    "                                                                    figsize=(15,5))"
   ]
  },
  {
   "cell_type": "markdown",
   "metadata": {},
   "source": [
    "Здесь нет явной зависимости: цена примерно одинакова и на 3, и на 6 км."
   ]
  },
  {
   "cell_type": "code",
   "execution_count": 76,
   "metadata": {},
   "outputs": [
    {
     "name": "stdout",
     "output_type": "stream",
     "text": [
      "         last_price\n",
      "weekday            \n",
      "0         9325000.0\n",
      "1         9000000.0\n",
      "2         9095000.0\n",
      "3         9100000.0\n",
      "4         8945000.0\n",
      "5         8525000.0\n",
      "6         9200000.0\n"
     ]
    },
    {
     "data": {
      "text/plain": [
       "<matplotlib.axes._subplots.AxesSubplot at 0x11cadf210>"
      ]
     },
     "execution_count": 76,
     "metadata": {},
     "output_type": "execute_result"
    },
    {
     "data": {
      "image/png": "[encoded data removed]",
      "text/plain": [
       "<Figure size 1080x360 with 1 Axes>"
      ]
     },
     "metadata": {
      "needs_background": "light"
     },
     "output_type": "display_data"
    }
   ],
   "source": [
    "weekday = central.pivot_table(index='weekday', values='last_price', aggfunc='median')\n",
    "print(weekday)\n",
    "\n",
    "weekday.plot(kind='bar', figsize=(15,5), grid=True)"
   ]
  },
  {
   "cell_type": "markdown",
   "metadata": {},
   "source": [
    "В среднем, цены ниже всего в объявлениях, размещенных в субботу."
   ]
  },
  {
   "cell_type": "code",
   "execution_count": 77,
   "metadata": {
    "scrolled": true
   },
   "outputs": [
    {
     "name": "stdout",
     "output_type": "stream",
     "text": [
      "       last_price\n",
      "month            \n",
      "1       9900000.0\n",
      "2       9500000.0\n",
      "3       9425000.0\n",
      "4       8850000.0\n",
      "5       8684000.0\n",
      "6       8750000.0\n",
      "7       9000000.0\n",
      "8       8900000.0\n",
      "9       9400000.0\n",
      "10      8620522.0\n",
      "11      9300000.0\n",
      "12      8500000.0\n"
     ]
    },
    {
     "data": {
      "text/plain": [
       "<matplotlib.axes._subplots.AxesSubplot at 0x11cc811d0>"
      ]
     },
     "execution_count": 77,
     "metadata": {},
     "output_type": "execute_result"
    },
    {
     "data": {
      "image/png": "[encoded data removed]",
      "text/plain": [
       "<Figure size 1080x360 with 1 Axes>"
      ]
     },
     "metadata": {
      "needs_background": "light"
     },
     "output_type": "display_data"
    }
   ],
   "source": [
    "month = central.pivot_table(index='month', values='last_price', aggfunc='median')\n",
    "print(month)\n",
    "\n",
    "month.plot(kind='bar', figsize=(15,5), grid=True)"
   ]
  },
  {
   "cell_type": "markdown",
   "metadata": {},
   "source": [
    "Здесь нет четкой тенденции, но можно увидеть, что самые высокие цены приходятся на январь-февраль, а самые низкие - на декабрь."
   ]
  },
  {
   "cell_type": "code",
   "execution_count": 78,
   "metadata": {
    "scrolled": true
   },
   "outputs": [
    {
     "name": "stdout",
     "output_type": "stream",
     "text": [
      "      last_price\n",
      "year            \n",
      "2014  19800000.0\n",
      "2015   9990000.0\n",
      "2016   9375000.0\n",
      "2017   8990000.0\n",
      "2018   8750000.0\n",
      "2019   9400000.0\n"
     ]
    },
    {
     "data": {
      "text/plain": [
       "<matplotlib.axes._subplots.AxesSubplot at 0x11ce22ad0>"
      ]
     },
     "execution_count": 78,
     "metadata": {},
     "output_type": "execute_result"
    },
    {
     "data": {
      "image/png": "[encoded data removed]",
      "text/plain": [
       "<Figure size 720x360 with 1 Axes>"
      ]
     },
     "metadata": {
      "needs_background": "light"
     },
     "output_type": "display_data"
    }
   ],
   "source": [
    "year = central.pivot_table(index='year', values='last_price', aggfunc='median')\n",
    "print(year)\n",
    "\n",
    "year.plot(kind='bar', figsize=(10,5), grid=True)"
   ]
  },
  {
   "cell_type": "markdown",
   "metadata": {},
   "source": [
    "Здесь, в отличие от всей совокупности, резкое падение цен началось не в 2016, а уже в 2015 году. К 2019 рынок еще так и не восстановился до уровня 2015 года.\n",
    "\n",
    "**Вывод**\n",
    "\n",
    "Мы выделили сегмент квартир в центре Санкт-Петербурга в радиусе до 7 км от центра. Изучив взаимосвязи нескольких факторов, мы выяснили, что цена зависит от этажа (самые дорогие квартиры на последних этажах), количества комнат (и размера квартиры, соответственно) и даты размещения (минимальные цены в объявлениях, размещенных в 2018 году).\n",
    "\n",
    "Главное отличие центра от остальных районов это более высокие цены на недвижимость, а также фактор последнего этажа."
   ]
  },
  {
   "cell_type": "markdown",
   "metadata": {},
   "source": [
    "## Заключение и выводы"
   ]
  },
  {
   "cell_type": "markdown",
   "metadata": {},
   "source": [
    "- **В первой части проекта** мы рассмотрели исходные данные, оценили объем датасета и основные типы данных.\n",
    "\n",
    "\n",
    "- **Во второй части** были проведены различные операции предобработки данных:\n",
    "    1. Поиск и заполнение пропусков \n",
    "        - Для уменьшения искажения данных пропуски заполнялись медианными значениями, там где это было возможно по подгруппам в разрезе населенного пункта или количества комнат.\n",
    "        - В столбцах `locality_name` и `floors_total` адекватной замены пропускам не было, поэтому строки с ними были просто удалены.\n",
    "    2. Также мы изменили типы данных с вещественного на числовой в тех столбцах, где это было возможно, и в столбце `first_day_exposition` привели данные к типу datetime.\n",
    "    \n",
    "    \n",
    "- **В третьей части проекта** были рассчитаны и добавлены в таблицу данные:\n",
    "    1. цена 1 квадратного метра;\n",
    "    2. день недели, месяц и год публикации объявления;\n",
    "    3. этаж квартиры; варианты — первый, последний, другой;\n",
    "    4. соотношение жилой и общей площади, а также отношение площади кухни к общей.\n",
    "\n",
    "\n",
    "- **В четвертой части** был выполнен исследовательский анализ данных:\n",
    "    1. Изучены следующие параметры: площадь, цена, число комнат, высота потолков, время продажи квартиры. Построены гистограммы для каждого признака и рассчитаны основные характеристики методом describe(). Мы выяснили, что чаще всего квартиры продаются менее чем за 6 месяцев, а менее 45 дней можно считать быстрой продажей. Есть и необычно долгие продажи, до нескольких лет.\n",
    "    2. Удалены аномальные значения площади и высоты потолков (например, потолки высотой 100 м, или жилая площадь большей общей площади квартиры). Выбросы значений по цене удалять не стали, чтобы не исказить данные, и далее использовать для анализа по центру Санкт-Петербурга.\n",
    "    3. Выяснили какие факторы больше всего влияют на стоимость квартиры: площадь, этаж, год размещения. \n",
    "    4. Выделены 10 населённых пунктов с наибольшим числом объявлений, и для них рассчитана цена квадратного метра. Среди 10 популярных локаций самые дорогие квартиры расположены в Санкт-Петербурге и Пушкине, а самые дешевые - в Выборге.\n",
    "    5. Выделен и изучен сегмент квартир в центре Санкт-Петербурга. Проанализированы параметры: площадь, цена, число комнат, высота потолков. Также выделены факторы, которые влияют на стоимость квартиры: число комнат, этаж, дата размещения объявления. В отличие от остальных районов, в центре дороже всего оценены квартиры на последнем этаже."
   ]
  }
 ],
 "metadata": {
  "kernelspec": {
   "display_name": "Python 3",
   "language": "python",
   "name": "python3"
  },
  "language_info": {
   "codemirror_mode": {
    "name": "ipython",
    "version": 3
   },
   "file_extension": ".py",
   "mimetype": "text/x-python",
   "name": "python",
   "nbconvert_exporter": "python",
   "pygments_lexer": "ipython3",
   "version": "3.7.8"
  },
  "toc": {
   "base_numbering": 1,
   "nav_menu": {},
   "number_sections": true,
   "sideBar": true,
   "skip_h1_title": true,
   "title_cell": "Table of Contents",
   "title_sidebar": "Contents",
   "toc_cell": false,
   "toc_position": {},
   "toc_section_display": true,
   "toc_window_display": false
  }
 },
 "nbformat": 4,
 "nbformat_minor": 2
}
